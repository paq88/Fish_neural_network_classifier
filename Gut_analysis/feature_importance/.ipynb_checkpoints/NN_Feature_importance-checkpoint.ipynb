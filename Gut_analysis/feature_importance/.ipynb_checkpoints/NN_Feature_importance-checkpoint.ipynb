{
 "cells": [
  {
   "cell_type": "markdown",
   "id": "e75102b8-a50f-4420-8d03-b3ab7ea93e7c",
   "metadata": {},
   "source": [
    "## libraries import and data loading\n",
    "\n",
    "if you want you can run this notebook in google colaboratory platfotm using [this link](https://colab.research.google.com/github/paq88/Neural_network_classifier/blob/main/Fish_model_NN_gut.ipynb)\n"
   ]
  },
  {
   "cell_type": "code",
   "execution_count": 2,
   "id": "9ffa54ba-096e-4b49-a5c2-402a5aa47e6b",
   "metadata": {},
   "outputs": [],
   "source": [
    "#libraries import\n",
    "import numpy as np \n",
    "import pandas as pd \n",
    "import seaborn as sns\n",
    "import matplotlib.pyplot as plt\n",
    "import tensorflow as tf\n",
    "#import glob\n",
    "# for tensorboard logs\n",
    "import datetime\n",
    "from sklearn.metrics import confusion_matrix, precision_recall_curve, roc_auc_score, roc_curve, accuracy_score\n",
    "from sklearn.preprocessing import normalize\n",
    "from sklearn.metrics import ConfusionMatrixDisplay\n",
    "from tensorflow import keras\n",
    "from tensorflow.keras import layers\n",
    "from sklearn.model_selection import train_test_split"
   ]
  },
  {
   "cell_type": "code",
   "execution_count": 3,
   "id": "42a241f5-3049-48bb-a6a9-68398aebd5f9",
   "metadata": {},
   "outputs": [],
   "source": [
    "# Function for plotting probability for each class\n",
    "def plot_prob(y_pred):\n",
    "    \"\"\"Plots the highest probability out of the output vector of a model for each class.\"\"\"\n",
    "    prob_value = list(map(max, y_pred))\n",
    "    y_pred_class = y_pred.argmax(axis=1)\n",
    "\n",
    "    predict_df = pd.DataFrame({\"pred_class\": y_pred_class, \"prob_value\": prob_value})\n",
    "    classes = np.sort(predict_df[\"pred_class\"].unique())\n",
    "    \n",
    "    num_classes = len(classes)\n",
    "    nrow = int(np.ceil(num_classes/3))\n",
    "    ncol = int(np.ceil(num_classes/nrow))\n",
    "    fig, axes = plt.subplots(nrows=nrow, ncols=ncol, figsize=(4*num_classes, 3.5))\n",
    "\n",
    "   \n",
    "    for i, clas in enumerate(classes):\n",
    "        ax = axes[i]\n",
    "        ax.hist(predict_df.loc[predict_df[\"pred_class\"] == clas, \"prob_value\"], bins=10, orientation='horizontal')\n",
    "        ax.set_title(f\"Probability distribution for predicted class {clas}\")\n",
    "        ax.set_ylabel(\"Probability\")\n",
    "        ax.set_xlabel(\"Frequency\")\n",
    "\n",
    "    plt.tight_layout()\n",
    "    plt.show()"
   ]
  },
  {
   "cell_type": "code",
   "execution_count": 202,
   "id": "377411e4-0d67-43df-908b-7cebfdb42da0",
   "metadata": {},
   "outputs": [],
   "source": [
    "# function for evaluatig model \n",
    "\n",
    "def evaluate_model(model, history, X_test, y_test):\n",
    "    y_pred = model.predict(X_test)\n",
    "    y_pred_class = y_pred.argmax(axis=1)\n",
    "    y_test_class = y_test.argmax(axis=1)\n",
    "    print(y_pred_class)\n",
    "    print(y_test_class)\n",
    "    # Assuming plot_prob is defined elsewhere\n",
    "    plot_prob(y_pred)\n",
    "\n",
    "    sample_weight = (y_pred_class != y_test_class)\n",
    "    plt.rc('font', size=10)\n",
    "    ConfusionMatrixDisplay.from_predictions(y_pred_class, y_test_class, #sample_weight=sample_weight,\n",
    "                                             normalize=\"true\", values_format=\".0%\")\n",
    "\n",
    "    # Plot training and validation loss\n",
    "    fig, ax = plt.subplots()\n",
    "    ax.plot(history.history[\"loss\"], 'r', marker='.', label=\"Train Loss\")\n",
    "    ax.plot(history.history[\"val_loss\"], 'b', marker='.', label=\"Validation loss\")\n",
    "    ax.legend()\n",
    "    ax.set_title(\"DNN_Gut_loss\")\n",
    "\n",
    "    # Plot training and validation accuracy\n",
    "    fig, ax = plt.subplots()\n",
    "    ax.plot(history.history[\"accuracy\"], 'r', marker='.', label=\"Train accuracy\")\n",
    "    ax.plot(history.history[\"val_accuracy\"], 'b', marker='.', label=\"Validation accuracy\")\n",
    "    ax.legend()\n",
    "    ax.set_title(\"DNN_Gut_acc\")\n"
   ]
  },
  {
   "cell_type": "code",
   "execution_count": 203,
   "id": "d4aa6be3-a508-46c1-ac71-7bb670919ded",
   "metadata": {},
   "outputs": [
    {
     "name": "stdout",
     "output_type": "stream",
     "text": [
      "(124, 127)\n",
      "pond                                                                                           object\n",
      "d__Bacteria;p__Firmicutes;c__Bacilli;o__Erysipelotrichales;f__Erysipelotrichaceae             float64\n",
      "d__Bacteria;p__Proteobacteria;c__Gammaproteobacteria;o__Aeromonadales;f__Aeromonadaceae       float64\n",
      "d__Bacteria;p__Firmicutes;c__Clostridia;o__Clostridiales;f__Clostridiaceae                    float64\n",
      "d__Bacteria;p__Firmicutes;c__Bacilli;o__Lactobacillales;f__Enterococcaceae                    float64\n",
      "                                                                                               ...   \n",
      "d__Bacteria;p__Proteobacteria;c__Gammaproteobacteria;o__Vibrionales;f__Vibrionaceae           float64\n",
      "d__Bacteria;p__Proteobacteria;c__Gammaproteobacteria;o__Pseudomonadales;f__Moraxellaceae      float64\n",
      "d__Bacteria;p__Bacteroidota;c__Bacteroidia;o__Flavobacteriales;f__Crocinitomicaceae           float64\n",
      "d__Bacteria;p__Campilobacterota;c__Campylobacteria;o__Campylobacterales;f__Arcobacteraceae    float64\n",
      "d__Bacteria;p__Actinobacteriota;c__Actinobacteria;o__Actinomycetales;f__Actinomycetaceae      float64\n",
      "Length: 127, dtype: object\n"
     ]
    },
    {
     "data": {
      "text/html": [
       "<div>\n",
       "<style scoped>\n",
       "    .dataframe tbody tr th:only-of-type {\n",
       "        vertical-align: middle;\n",
       "    }\n",
       "\n",
       "    .dataframe tbody tr th {\n",
       "        vertical-align: top;\n",
       "    }\n",
       "\n",
       "    .dataframe thead th {\n",
       "        text-align: right;\n",
       "    }\n",
       "</style>\n",
       "<table border=\"1\" class=\"dataframe\">\n",
       "  <thead>\n",
       "    <tr style=\"text-align: right;\">\n",
       "      <th></th>\n",
       "      <th>pond</th>\n",
       "      <th>d__Bacteria;p__Firmicutes;c__Bacilli;o__Erysipelotrichales;f__Erysipelotrichaceae</th>\n",
       "      <th>d__Bacteria;p__Proteobacteria;c__Gammaproteobacteria;o__Aeromonadales;f__Aeromonadaceae</th>\n",
       "      <th>d__Bacteria;p__Firmicutes;c__Clostridia;o__Clostridiales;f__Clostridiaceae</th>\n",
       "      <th>d__Bacteria;p__Firmicutes;c__Bacilli;o__Lactobacillales;f__Enterococcaceae</th>\n",
       "      <th>d__Bacteria;p__Proteobacteria;c__Gammaproteobacteria;o__Enterobacterales;f__Yersiniaceae</th>\n",
       "      <th>d__Bacteria;p__Proteobacteria;c__Gammaproteobacteria;__;__</th>\n",
       "      <th>d__Bacteria;p__Proteobacteria;c__Gammaproteobacteria;o__Enterobacterales;f__Enterobacteriaceae</th>\n",
       "      <th>d__Bacteria;p__Fusobacteriota;c__Fusobacteriia;o__Fusobacteriales;f__Fusobacteriaceae</th>\n",
       "      <th>d__Bacteria;p__Bacteroidota;c__Bacteroidia;o__Bacteroidales;f__Dysgonomonadaceae</th>\n",
       "      <th>...</th>\n",
       "      <th>d__Bacteria;p__Proteobacteria;c__Gammaproteobacteria;o__Alteromonadales;f__Alteromonadaceae</th>\n",
       "      <th>d__Bacteria;p__Acidobacteriota;c__Vicinamibacteria;o__Vicinamibacterales;f__uncultured</th>\n",
       "      <th>d__Bacteria;p__Verrucomicrobiota;c__Verrucomicrobiae;o__Pedosphaerales;f__Pedosphaeraceae</th>\n",
       "      <th>d__Bacteria;p__Firmicutes;c__Negativicutes;o__Veillonellales-Selenomonadales;f__Sporomusaceae</th>\n",
       "      <th>d__Bacteria;p__Proteobacteria;c__Gammaproteobacteria;o__Burkholderiales;f__Alcaligenaceae</th>\n",
       "      <th>d__Bacteria;p__Proteobacteria;c__Gammaproteobacteria;o__Vibrionales;f__Vibrionaceae</th>\n",
       "      <th>d__Bacteria;p__Proteobacteria;c__Gammaproteobacteria;o__Pseudomonadales;f__Moraxellaceae</th>\n",
       "      <th>d__Bacteria;p__Bacteroidota;c__Bacteroidia;o__Flavobacteriales;f__Crocinitomicaceae</th>\n",
       "      <th>d__Bacteria;p__Campilobacterota;c__Campylobacteria;o__Campylobacterales;f__Arcobacteraceae</th>\n",
       "      <th>d__Bacteria;p__Actinobacteriota;c__Actinobacteria;o__Actinomycetales;f__Actinomycetaceae</th>\n",
       "    </tr>\n",
       "  </thead>\n",
       "  <tbody>\n",
       "    <tr>\n",
       "      <th>0</th>\n",
       "      <td>Gut_S10</td>\n",
       "      <td>2319.0</td>\n",
       "      <td>2187.0</td>\n",
       "      <td>1743.0</td>\n",
       "      <td>500.0</td>\n",
       "      <td>521.0</td>\n",
       "      <td>286.0</td>\n",
       "      <td>366.0</td>\n",
       "      <td>612.0</td>\n",
       "      <td>160.0</td>\n",
       "      <td>...</td>\n",
       "      <td>NaN</td>\n",
       "      <td>NaN</td>\n",
       "      <td>NaN</td>\n",
       "      <td>NaN</td>\n",
       "      <td>NaN</td>\n",
       "      <td>NaN</td>\n",
       "      <td>NaN</td>\n",
       "      <td>NaN</td>\n",
       "      <td>NaN</td>\n",
       "      <td>NaN</td>\n",
       "    </tr>\n",
       "    <tr>\n",
       "      <th>1</th>\n",
       "      <td>Gut_S10</td>\n",
       "      <td>3391.0</td>\n",
       "      <td>2071.0</td>\n",
       "      <td>355.0</td>\n",
       "      <td>1054.0</td>\n",
       "      <td>1024.0</td>\n",
       "      <td>1952.0</td>\n",
       "      <td>66.0</td>\n",
       "      <td>217.0</td>\n",
       "      <td>95.0</td>\n",
       "      <td>...</td>\n",
       "      <td>NaN</td>\n",
       "      <td>NaN</td>\n",
       "      <td>NaN</td>\n",
       "      <td>NaN</td>\n",
       "      <td>NaN</td>\n",
       "      <td>NaN</td>\n",
       "      <td>NaN</td>\n",
       "      <td>NaN</td>\n",
       "      <td>NaN</td>\n",
       "      <td>NaN</td>\n",
       "    </tr>\n",
       "    <tr>\n",
       "      <th>2</th>\n",
       "      <td>Gut_S10</td>\n",
       "      <td>1338.0</td>\n",
       "      <td>7053.0</td>\n",
       "      <td>669.0</td>\n",
       "      <td>279.0</td>\n",
       "      <td>329.0</td>\n",
       "      <td>63.0</td>\n",
       "      <td>52.0</td>\n",
       "      <td>1338.0</td>\n",
       "      <td>139.0</td>\n",
       "      <td>...</td>\n",
       "      <td>NaN</td>\n",
       "      <td>NaN</td>\n",
       "      <td>NaN</td>\n",
       "      <td>NaN</td>\n",
       "      <td>NaN</td>\n",
       "      <td>NaN</td>\n",
       "      <td>NaN</td>\n",
       "      <td>NaN</td>\n",
       "      <td>NaN</td>\n",
       "      <td>NaN</td>\n",
       "    </tr>\n",
       "    <tr>\n",
       "      <th>3</th>\n",
       "      <td>Gut_S10</td>\n",
       "      <td>1582.0</td>\n",
       "      <td>15595.0</td>\n",
       "      <td>124.0</td>\n",
       "      <td>503.0</td>\n",
       "      <td>309.0</td>\n",
       "      <td>5.0</td>\n",
       "      <td>3418.0</td>\n",
       "      <td>326.0</td>\n",
       "      <td>76.0</td>\n",
       "      <td>...</td>\n",
       "      <td>NaN</td>\n",
       "      <td>NaN</td>\n",
       "      <td>NaN</td>\n",
       "      <td>NaN</td>\n",
       "      <td>NaN</td>\n",
       "      <td>NaN</td>\n",
       "      <td>NaN</td>\n",
       "      <td>NaN</td>\n",
       "      <td>NaN</td>\n",
       "      <td>NaN</td>\n",
       "    </tr>\n",
       "    <tr>\n",
       "      <th>4</th>\n",
       "      <td>Gut_S10</td>\n",
       "      <td>1463.0</td>\n",
       "      <td>3891.0</td>\n",
       "      <td>541.0</td>\n",
       "      <td>7.0</td>\n",
       "      <td>13.0</td>\n",
       "      <td>11.0</td>\n",
       "      <td>61.0</td>\n",
       "      <td>398.0</td>\n",
       "      <td>4.0</td>\n",
       "      <td>...</td>\n",
       "      <td>NaN</td>\n",
       "      <td>NaN</td>\n",
       "      <td>NaN</td>\n",
       "      <td>NaN</td>\n",
       "      <td>NaN</td>\n",
       "      <td>NaN</td>\n",
       "      <td>NaN</td>\n",
       "      <td>NaN</td>\n",
       "      <td>NaN</td>\n",
       "      <td>NaN</td>\n",
       "    </tr>\n",
       "  </tbody>\n",
       "</table>\n",
       "<p>5 rows × 127 columns</p>\n",
       "</div>"
      ],
      "text/plain": [
       "      pond  \\\n",
       "0  Gut_S10   \n",
       "1  Gut_S10   \n",
       "2  Gut_S10   \n",
       "3  Gut_S10   \n",
       "4  Gut_S10   \n",
       "\n",
       "   d__Bacteria;p__Firmicutes;c__Bacilli;o__Erysipelotrichales;f__Erysipelotrichaceae  \\\n",
       "0                                             2319.0                                   \n",
       "1                                             3391.0                                   \n",
       "2                                             1338.0                                   \n",
       "3                                             1582.0                                   \n",
       "4                                             1463.0                                   \n",
       "\n",
       "   d__Bacteria;p__Proteobacteria;c__Gammaproteobacteria;o__Aeromonadales;f__Aeromonadaceae  \\\n",
       "0                                             2187.0                                         \n",
       "1                                             2071.0                                         \n",
       "2                                             7053.0                                         \n",
       "3                                            15595.0                                         \n",
       "4                                             3891.0                                         \n",
       "\n",
       "   d__Bacteria;p__Firmicutes;c__Clostridia;o__Clostridiales;f__Clostridiaceae  \\\n",
       "0                                             1743.0                            \n",
       "1                                              355.0                            \n",
       "2                                              669.0                            \n",
       "3                                              124.0                            \n",
       "4                                              541.0                            \n",
       "\n",
       "   d__Bacteria;p__Firmicutes;c__Bacilli;o__Lactobacillales;f__Enterococcaceae  \\\n",
       "0                                              500.0                            \n",
       "1                                             1054.0                            \n",
       "2                                              279.0                            \n",
       "3                                              503.0                            \n",
       "4                                                7.0                            \n",
       "\n",
       "   d__Bacteria;p__Proteobacteria;c__Gammaproteobacteria;o__Enterobacterales;f__Yersiniaceae  \\\n",
       "0                                              521.0                                          \n",
       "1                                             1024.0                                          \n",
       "2                                              329.0                                          \n",
       "3                                              309.0                                          \n",
       "4                                               13.0                                          \n",
       "\n",
       "   d__Bacteria;p__Proteobacteria;c__Gammaproteobacteria;__;__  \\\n",
       "0                                              286.0            \n",
       "1                                             1952.0            \n",
       "2                                               63.0            \n",
       "3                                                5.0            \n",
       "4                                               11.0            \n",
       "\n",
       "   d__Bacteria;p__Proteobacteria;c__Gammaproteobacteria;o__Enterobacterales;f__Enterobacteriaceae  \\\n",
       "0                                              366.0                                                \n",
       "1                                               66.0                                                \n",
       "2                                               52.0                                                \n",
       "3                                             3418.0                                                \n",
       "4                                               61.0                                                \n",
       "\n",
       "   d__Bacteria;p__Fusobacteriota;c__Fusobacteriia;o__Fusobacteriales;f__Fusobacteriaceae  \\\n",
       "0                                              612.0                                       \n",
       "1                                              217.0                                       \n",
       "2                                             1338.0                                       \n",
       "3                                              326.0                                       \n",
       "4                                              398.0                                       \n",
       "\n",
       "   d__Bacteria;p__Bacteroidota;c__Bacteroidia;o__Bacteroidales;f__Dysgonomonadaceae  \\\n",
       "0                                              160.0                                  \n",
       "1                                               95.0                                  \n",
       "2                                              139.0                                  \n",
       "3                                               76.0                                  \n",
       "4                                                4.0                                  \n",
       "\n",
       "   ...  \\\n",
       "0  ...   \n",
       "1  ...   \n",
       "2  ...   \n",
       "3  ...   \n",
       "4  ...   \n",
       "\n",
       "   d__Bacteria;p__Proteobacteria;c__Gammaproteobacteria;o__Alteromonadales;f__Alteromonadaceae  \\\n",
       "0                                                NaN                                             \n",
       "1                                                NaN                                             \n",
       "2                                                NaN                                             \n",
       "3                                                NaN                                             \n",
       "4                                                NaN                                             \n",
       "\n",
       "   d__Bacteria;p__Acidobacteriota;c__Vicinamibacteria;o__Vicinamibacterales;f__uncultured  \\\n",
       "0                                                NaN                                        \n",
       "1                                                NaN                                        \n",
       "2                                                NaN                                        \n",
       "3                                                NaN                                        \n",
       "4                                                NaN                                        \n",
       "\n",
       "   d__Bacteria;p__Verrucomicrobiota;c__Verrucomicrobiae;o__Pedosphaerales;f__Pedosphaeraceae  \\\n",
       "0                                                NaN                                           \n",
       "1                                                NaN                                           \n",
       "2                                                NaN                                           \n",
       "3                                                NaN                                           \n",
       "4                                                NaN                                           \n",
       "\n",
       "   d__Bacteria;p__Firmicutes;c__Negativicutes;o__Veillonellales-Selenomonadales;f__Sporomusaceae  \\\n",
       "0                                                NaN                                               \n",
       "1                                                NaN                                               \n",
       "2                                                NaN                                               \n",
       "3                                                NaN                                               \n",
       "4                                                NaN                                               \n",
       "\n",
       "   d__Bacteria;p__Proteobacteria;c__Gammaproteobacteria;o__Burkholderiales;f__Alcaligenaceae  \\\n",
       "0                                                NaN                                           \n",
       "1                                                NaN                                           \n",
       "2                                                NaN                                           \n",
       "3                                                NaN                                           \n",
       "4                                                NaN                                           \n",
       "\n",
       "   d__Bacteria;p__Proteobacteria;c__Gammaproteobacteria;o__Vibrionales;f__Vibrionaceae  \\\n",
       "0                                                NaN                                     \n",
       "1                                                NaN                                     \n",
       "2                                                NaN                                     \n",
       "3                                                NaN                                     \n",
       "4                                                NaN                                     \n",
       "\n",
       "   d__Bacteria;p__Proteobacteria;c__Gammaproteobacteria;o__Pseudomonadales;f__Moraxellaceae  \\\n",
       "0                                                NaN                                          \n",
       "1                                                NaN                                          \n",
       "2                                                NaN                                          \n",
       "3                                                NaN                                          \n",
       "4                                                NaN                                          \n",
       "\n",
       "   d__Bacteria;p__Bacteroidota;c__Bacteroidia;o__Flavobacteriales;f__Crocinitomicaceae  \\\n",
       "0                                                NaN                                     \n",
       "1                                                NaN                                     \n",
       "2                                                NaN                                     \n",
       "3                                                NaN                                     \n",
       "4                                                NaN                                     \n",
       "\n",
       "   d__Bacteria;p__Campilobacterota;c__Campylobacteria;o__Campylobacterales;f__Arcobacteraceae  \\\n",
       "0                                                NaN                                            \n",
       "1                                                NaN                                            \n",
       "2                                                NaN                                            \n",
       "3                                                NaN                                            \n",
       "4                                                NaN                                            \n",
       "\n",
       "   d__Bacteria;p__Actinobacteriota;c__Actinobacteria;o__Actinomycetales;f__Actinomycetaceae  \n",
       "0                                                NaN                                         \n",
       "1                                                NaN                                         \n",
       "2                                                NaN                                         \n",
       "3                                                NaN                                         \n",
       "4                                                NaN                                         \n",
       "\n",
       "[5 rows x 127 columns]"
      ]
     },
     "execution_count": 203,
     "metadata": {},
     "output_type": "execute_result"
    }
   ],
   "source": [
    "# load data from github \n",
    "\n",
    "df = pd.read_csv('https://raw.githubusercontent.com/paq88/Neural_network_classifier/main/data/gut_full_feature_table.csv')\n",
    "print(df.shape)\n",
    "print(df.dtypes)\n",
    "df.head()"
   ]
  },
  {
   "cell_type": "markdown",
   "id": "64ac0bbc-da18-4195-a26a-34e5da80a26b",
   "metadata": {},
   "source": [
    "After ininitial inspection of data we have a lot of missing values, in case of our data missing value means zero abduance of bacteria was found by upstream analysys so we can safely replace those with zeros"
   ]
  },
  {
   "cell_type": "code",
   "execution_count": 204,
   "id": "694dd6da-f2a6-4d09-b497-af7f0d65593f",
   "metadata": {},
   "outputs": [],
   "source": [
    "df = df.fillna(0)\n"
   ]
  },
  {
   "cell_type": "markdown",
   "id": "5cf9d097-207c-4c7b-9cfd-692aa6d23bcb",
   "metadata": {},
   "source": [
    "## conversion of class variable\n"
   ]
  },
  {
   "cell_type": "markdown",
   "id": "1c2ebfea-ee84-4e04-9fcd-eed8143b2897",
   "metadata": {},
   "source": [
    "Explanation of pond coding\n",
    "\n",
    "| number | setup | pond numbers | water supplementation | feed suplementation |\n",
    "|---|---|---|---|---|\n",
    "|0|control | 8,14,18,24,29|NO|NO|\n",
    "|1|set 1 | 12,16,19,23,26|Em farma|NO|\n",
    "|2|set 2 | 10,21,28,30,32|Em farma|EM|\n",
    "|3|set 3 | 9,13,17,20,27|EM|NO|\n",
    "|4|set 4 | 11,15,22,25,31|EM|EM|"
   ]
  },
  {
   "cell_type": "code",
   "execution_count": 205,
   "id": "f3fec2f2-9fb2-4697-b7c0-6a26736e8a35",
   "metadata": {},
   "outputs": [],
   "source": [
    "#creting decoder for 5 classes (original experimental setups)\n",
    "# codes = {0 : [8,14,18,24,29], 1: [12,16,19,23,26], 2 : [10,21,28,30,32], 3 : [9,13,17,20,27], 4 : [11,15,22,25,31]}\n",
    "\n",
    "def pond_decoder(x,codes):\n",
    "    \n",
    "    x=x.replace('S','')\n",
    "    num = int(x.split(\"_\")[1])\n",
    "    \n",
    "    \n",
    "    for key, value_list in codes.items():\n",
    "        if num in value_list:\n",
    "            return key\n",
    "    \n",
    "    return None   \n",
    "#pond_decoder(\"gut_14\")"
   ]
  },
  {
   "cell_type": "markdown",
   "id": "b4eb6a3e-f546-4ed6-b0f5-2ba135670cf5",
   "metadata": {},
   "source": [
    "On this plots we can see that model reached peak accuracy for validation dataset of around 0.6 after around 280 epochs and then accuracy started to drop, similar conclusions we can draw from loss function plot where we can see overfitting to data near 350 epochs. "
   ]
  },
  {
   "cell_type": "markdown",
   "id": "6c827899-1bbb-493d-949a-6a00d4c5070b",
   "metadata": {},
   "source": [
    "Explanation of pond coding\n",
    "\n",
    "| number | setup | pond numbers | water supplementation | feed suplementation |\n",
    "|---|---|---|---|---|\n",
    "|0|control | 8,14,18,24,29|NO|NO|\n",
    "|1|set 1 | 12,16,19,23,26|Em farma|NO|\n",
    "|2|set 2 | 10,21,28,30,32|Em farma|EM|\n",
    "|3|set 3 | 9,13,17,20,27|EM|NO|\n",
    "|4|set 4 | 11,15,22,25,31|EM|EM|"
   ]
  },
  {
   "cell_type": "markdown",
   "id": "042f51ee-e4ba-4e54-a304-a32117d28610",
   "metadata": {},
   "source": [
    "So as we can see model is confusing setup 1 with 3, 0 and vice versa, similar case to 2 and 4. the reason for this is feed suplementation similarities between those setups. We could draw conclusions that feed supplementation has much more impact on microbiome than water supplementation.  With this knowledge we will divide data into  categories and see if results improve."
   ]
  },
  {
   "cell_type": "markdown",
   "id": "7d3fbca2",
   "metadata": {},
   "source": [
    "# 2 classes\n",
    "As we mentioned later here we will focus only on 2 classes \n",
    "- 0 - no feed classification \n",
    "- 1 - feed suplementation "
   ]
  },
  {
   "cell_type": "code",
   "execution_count": 206,
   "id": "657df5fe-f33d-43aa-968f-9cffa732ce18",
   "metadata": {},
   "outputs": [],
   "source": [
    "\n",
    "df_2 = df.copy()"
   ]
  },
  {
   "cell_type": "code",
   "execution_count": 207,
   "id": "db1915d9",
   "metadata": {},
   "outputs": [],
   "source": [
    "#performing change of target variable collumn \n",
    "codes = {0 : [8,14,18,24,29,12,16,19,23,26,9,13,17,20,27], 1 : [10,21,28,30,32,11,15,22,25,31]}\n",
    "\n",
    "df_2['pond'] = df_2['pond'].apply(lambda x: pond_decoder(x,codes))\n"
   ]
  },
  {
   "cell_type": "code",
   "execution_count": 208,
   "id": "32ced2d8",
   "metadata": {},
   "outputs": [],
   "source": [
    "df_2['pond'] = df_2['pond'].astype('category')"
   ]
  },
  {
   "cell_type": "code",
   "execution_count": 209,
   "id": "41c07640",
   "metadata": {},
   "outputs": [
    {
     "data": {
      "text/plain": [
       "[1, 0]\n",
       "Categories (2, int64): [0, 1]"
      ]
     },
     "execution_count": 209,
     "metadata": {},
     "output_type": "execute_result"
    }
   ],
   "source": [
    "df_2.head()\n",
    "df_2.describe()\n",
    "df_2['pond'].unique()"
   ]
  },
  {
   "cell_type": "code",
   "execution_count": 210,
   "id": "869c0e80",
   "metadata": {},
   "outputs": [],
   "source": [
    "target = ['pond']\n",
    "predictors = list(set(list(df_2.columns)) - set(target))\n"
   ]
  },
  {
   "cell_type": "code",
   "execution_count": 211,
   "id": "25b21922",
   "metadata": {},
   "outputs": [],
   "source": [
    "df_2[predictors]=df_2[predictors]/df_2[predictors].max()\n"
   ]
  },
  {
   "cell_type": "markdown",
   "id": "b8da5ce4",
   "metadata": {},
   "source": [
    "## Splitting data into train and test sets\n"
   ]
  },
  {
   "cell_type": "code",
   "execution_count": 212,
   "id": "13c43679",
   "metadata": {},
   "outputs": [
    {
     "name": "stdout",
     "output_type": "stream",
     "text": [
      "(86, 126) (38, 126) (86, 2) (38, 2)\n"
     ]
    }
   ],
   "source": [
    "X2=df_2[predictors].values\n",
    "y2=df_2[target].values\n",
    "yt2 = keras.utils.to_categorical(y2, 2)\n",
    "X_train2, X_test2, y_train2, y_test2 = train_test_split(X2,yt2,test_size=0.3,random_state=111,stratify = y2,shuffle = True)\n",
    "print(X_train2.shape,X_test2.shape,y_train2.shape,y_test2.shape)\n"
   ]
  },
  {
   "cell_type": "code",
   "execution_count": 213,
   "id": "e282a4fa",
   "metadata": {},
   "outputs": [
    {
     "data": {
      "text/plain": [
       "array([[1., 0.],\n",
       "       [1., 0.],\n",
       "       [1., 0.],\n",
       "       [1., 0.],\n",
       "       [1., 0.]], dtype=float32)"
      ]
     },
     "execution_count": 213,
     "metadata": {},
     "output_type": "execute_result"
    }
   ],
   "source": [
    "y_train2[:5]"
   ]
  },
  {
   "cell_type": "markdown",
   "id": "62c1a56d",
   "metadata": {},
   "source": [
    "## model building and compiling"
   ]
  },
  {
   "cell_type": "code",
   "execution_count": 214,
   "id": "9ccb5111-3ec8-4685-be85-5e8fc0acabe8",
   "metadata": {},
   "outputs": [
    {
     "name": "stdout",
     "output_type": "stream",
     "text": [
      "Model: \"sequential_1\"\n",
      "_________________________________________________________________\n",
      " Layer (type)                Output Shape              Param #   \n",
      "=================================================================\n",
      " dense_4 (Dense)             (None, 128)               16256     \n",
      "                                                                 \n",
      " dropout_2 (Dropout)         (None, 128)               0         \n",
      "                                                                 \n",
      " dense_5 (Dense)             (None, 64)                8256      \n",
      "                                                                 \n",
      " dropout_3 (Dropout)         (None, 64)                0         \n",
      "                                                                 \n",
      " dense_6 (Dense)             (None, 16)                1040      \n",
      "                                                                 \n",
      " dense_7 (Dense)             (None, 2)                 34        \n",
      "                                                                 \n",
      "=================================================================\n",
      "Total params: 25586 (99.95 KB)\n",
      "Trainable params: 25586 (99.95 KB)\n",
      "Non-trainable params: 0 (0.00 Byte)\n",
      "_________________________________________________________________\n"
     ]
    }
   ],
   "source": [
    "model2 = keras.Sequential()\n",
    "\n",
    "\n",
    "model2.add(keras.layers.Dense(128,input_shape=(X_train2.shape[1],),activation='relu'))\n",
    "\n",
    "\n",
    "model2.add(keras.layers.Dropout(rate=0.25))\n",
    "model2.add(keras.layers.Dense(64, activation ='relu'))\n",
    "model2.add(keras.layers.Dropout(rate=0.25))\n",
    "model2.add(keras.layers.Dense(16, activation ='relu'))\n",
    "\n",
    "model2.add(keras.layers.Dense(2, activation ='softmax'))\n",
    "\n",
    "model2.summary()"
   ]
  },
  {
   "cell_type": "code",
   "execution_count": 215,
   "id": "04bba617-b6a9-4834-9876-b2175b9dc26a",
   "metadata": {},
   "outputs": [],
   "source": [
    "checkpoint_path = \"NN_gut_2class/checkpoint\"\n",
    "cp_callback = tf.keras.callbacks.ModelCheckpoint(filepath=checkpoint_path,\n",
    "                                                 save_weights_only=True,\n",
    "                                                 verbose=1)\n",
    "es_callback = tf.keras.callbacks.EarlyStopping(patience = 5)\n",
    "\n",
    "import os\n",
    "logdir = os.path.join(\"tensorboard_logs\", datetime.datetime.now().strftime(\"%Y%m%d-%H%M%S\"))\n",
    "\n",
    "tb_callback = tf.keras.callbacks.TensorBoard(log_dir=logdir, histogram_freq=1)"
   ]
  },
  {
   "cell_type": "code",
   "execution_count": 216,
   "id": "3e9cfe0d-453c-44ee-ae01-2326fbbb3a03",
   "metadata": {},
   "outputs": [],
   "source": [
    "loss = \"categorical_crossentropy\"\n",
    "#loss = \"sparse_categorical_crossentropy\"\n",
    "metrics = \"accuracy\"\n",
    "# worth trying same loss as metrics\n",
    "optimizer = keras.optimizers.Adam(learning_rate = 0.0005)\n",
    "\n",
    "model2.compile(optimizer = optimizer, loss = loss, metrics=metrics)"
   ]
  },
  {
   "cell_type": "code",
   "execution_count": null,
   "id": "19b1feb6-48b0-4e26-bfa6-c0e17ccb4950",
   "metadata": {},
   "outputs": [],
   "source": [
    "# we create callback here to use tensorboard later on \n",
    "\n",
    "\n",
    "history2_2=model2.fit(X_train2, y_train2, epochs = 300, verbose = 1, shuffle = True, validation_data=(X_test2, y_test2),callbacks = [tb_callback,cp_callback,es_callback])\n"
   ]
  },
  {
   "cell_type": "markdown",
   "id": "d83cdcd3-f0e4-4bed-9cc6-6b375c4d8cbe",
   "metadata": {},
   "source": [
    "We will also create function to evaluate models so we dont have to do that manually each time "
   ]
  },
  {
   "cell_type": "code",
   "execution_count": 218,
   "id": "9764f2e6-2565-4705-8396-403346439c1a",
   "metadata": {},
   "outputs": [],
   "source": [
    "import matplotlib.pyplot as plt\n",
    "from sklearn.metrics import ConfusionMatrixDisplay\n",
    "\n",
    "def evaluate_model(model, history, X_test, y_test):\n",
    "    y_pred = model.predict(X_test)\n",
    "    y_pred_class = y_pred.argmax(axis=1)\n",
    "    y_test_class = y_test.argmax(axis=1)\n",
    "    print(y_pred_class)\n",
    "    print(y_test_class)\n",
    "    # Assuming plot_prob is defined elsewhere\n",
    "    plot_prob(y_pred)\n",
    "\n",
    "    sample_weight = (y_pred_class != y_test_class)\n",
    "    plt.rc('font', size=10)\n",
    "    ConfusionMatrixDisplay.from_predictions(y_pred_class, y_test_class, #sample_weight=sample_weight,\n",
    "                                             normalize=\"true\", values_format=\".0%\")\n",
    "\n",
    "    # Plot training and validation loss\n",
    "    fig, ax = plt.subplots()\n",
    "    ax.plot(history.history[\"loss\"], 'r', marker='.', label=\"Train Loss\")\n",
    "    ax.plot(history.history[\"val_loss\"], 'b', marker='.', label=\"Validation loss\")\n",
    "    ax.legend()\n",
    "    ax.set_title(\"DNN_Gut_loss\")\n",
    "\n",
    "    # Plot training and validation accuracy\n",
    "    fig, ax = plt.subplots()\n",
    "    ax.plot(history.history[\"accuracy\"], 'r', marker='.', label=\"Train accuracy\")\n",
    "    ax.plot(history.history[\"val_accuracy\"], 'b', marker='.', label=\"Validation accuracy\")\n",
    "    ax.legend()\n",
    "    ax.set_title(\"DNN_Gut_acc\")\n"
   ]
  },
  {
   "cell_type": "code",
   "execution_count": 219,
   "id": "3e1e2f0a-8b17-4c4d-b687-5325ab9ce18f",
   "metadata": {},
   "outputs": [
    {
     "name": "stdout",
     "output_type": "stream",
     "text": [
      "2/2 [==============================] - 0s 0s/step\n"
     ]
    }
   ],
   "source": [
    "y_pred = model2.predict(X_test2)"
   ]
  },
  {
   "cell_type": "code",
   "execution_count": 220,
   "id": "01fd84f3-c59e-4852-b1bf-42bd4c1e3281",
   "metadata": {},
   "outputs": [
    {
     "name": "stdout",
     "output_type": "stream",
     "text": [
      "2/2 [==============================] - 0s 0s/step\n",
      "[0 0 0 1 0 0 1 0 0 1 0 0 1 0 1 0 0 0 0 1 1 0 0 1 1 0 1 0 1 0 0 1 0 1 0 1 0\n",
      " 0]\n",
      "[0 0 0 1 0 0 1 0 0 1 0 0 1 0 1 0 1 0 0 1 1 1 0 1 0 0 1 0 1 0 0 0 0 1 1 1 0\n",
      " 0]\n"
     ]
    },
    {
     "data": {
      "image/png": "[encoded data removed]",
      "text/plain": [
       "<Figure size 800x350 with 2 Axes>"
      ]
     },
     "metadata": {},
     "output_type": "display_data"
    },
    {
     "data": {
      "image/png": "[encoded data removed]",
      "text/plain": [
       "<Figure size 640x480 with 2 Axes>"
      ]
     },
     "metadata": {},
     "output_type": "display_data"
    },
    {
     "data": {
      "image/png": "[encoded data removed]",
      "text/plain": [
       "<Figure size 640x480 with 1 Axes>"
      ]
     },
     "metadata": {},
     "output_type": "display_data"
    },
    {
     "data": {
      "image/png": "[encoded data removed]",
      "text/plain": [
       "<Figure size 640x480 with 1 Axes>"
      ]
     },
     "metadata": {},
     "output_type": "display_data"
    }
   ],
   "source": [
    "evaluate_model(model2, history2_2, X_test2, y_test2)"
   ]
  },
  {
   "cell_type": "code",
   "execution_count": 221,
   "id": "64572b46-0658-4b4c-83f9-89cb5321b5c1",
   "metadata": {},
   "outputs": [
    {
     "name": "stdout",
     "output_type": "stream",
     "text": [
      "2/2 [==============================] - 0s 5ms/step - loss: 0.3452 - accuracy: 0.8684\n"
     ]
    },
    {
     "data": {
      "text/plain": [
       "[0.3452049195766449, 0.8684210777282715]"
      ]
     },
     "execution_count": 221,
     "metadata": {},
     "output_type": "execute_result"
    }
   ],
   "source": [
    "model2.evaluate(X_test2,y_test2)"
   ]
  },
  {
   "cell_type": "markdown",
   "id": "defc21df-c2f2-4daf-892b-33337d42eae8",
   "metadata": {},
   "source": [
    "Here we will test tensorboard another usefull evaluation tool thats what for we needed tensorboard callback created earlier this proved to work best on colaboratory platform "
   ]
  },
  {
   "cell_type": "markdown",
   "id": "e903afd6-4e9b-4130-b87b-642ec1274419",
   "metadata": {},
   "source": [
    "# Importance of features  \n",
    "Now we will try to acces importaonce of features we will start by calculating SHAP values. We will do that for our latest model based on 2 classes "
   ]
  },
  {
   "cell_type": "markdown",
   "id": "baaaee94-ae88-456a-9144-3f4ce959e041",
   "metadata": {},
   "source": [
    "## SHAP_values"
   ]
  },
  {
   "cell_type": "code",
   "execution_count": 222,
   "id": "85ee5c46-1a25-4733-a4f9-82732f9a8659",
   "metadata": {},
   "outputs": [
    {
     "data": {
      "application/vnd.jupyter.widget-view+json": {
       "model_id": "1f9aba9cd2cf432a97e87c81cac08af0",
       "version_major": 2,
       "version_minor": 0
      },
      "text/plain": [
       "  0%|          | 0/38 [00:00<?, ?it/s]"
      ]
     },
     "metadata": {},
     "output_type": "display_data"
    },
    {
     "data": {
      "image/png": "[encoded data removed]",
      "text/plain": [
       "<Figure size 1150x660 with 2 Axes>"
      ]
     },
     "metadata": {},
     "output_type": "display_data"
    }
   ],
   "source": [
    "import shap\n",
    "\n",
    "# Create a SHAP explainer object\n",
    "explainer = shap.KernelExplainer(model2, X_train2)\n",
    "\n",
    "# Calculate SHAP values\n",
    "shap_values = explainer.shap_values(X_test2)\n",
    "\n",
    "# Plot the SHAP values\n",
    "shap.summary_plot(shap_values, X_test2)\n"
   ]
  },
  {
   "cell_type": "code",
   "execution_count": 223,
   "id": "c47c5e89-75ff-4e7a-b404-55cdef5a8048",
   "metadata": {
    "scrolled": true
   },
   "outputs": [
    {
     "data": {
      "image/png": "[encoded data removed]",
      "text/plain": [
       "<Figure size 1150x660 with 2 Axes>"
      ]
     },
     "metadata": {},
     "output_type": "display_data"
    },
    {
     "data": {
      "text/plain": [
       "<Figure size 640x480 with 0 Axes>"
      ]
     },
     "metadata": {},
     "output_type": "display_data"
    }
   ],
   "source": [
    "shap.summary_plot(shap_values, features=X_test2)\n",
    "plt.savefig('shap_summary_plot.png')"
   ]
  },
  {
   "cell_type": "code",
   "execution_count": 224,
   "id": "bde254a0-20dd-4365-8426-4c9816c0cb63",
   "metadata": {},
   "outputs": [
    {
     "data": {
      "text/plain": [
       "(38, 126)"
      ]
     },
     "execution_count": 224,
     "metadata": {},
     "output_type": "execute_result"
    }
   ],
   "source": [
    "X_test2.shape"
   ]
  },
  {
   "cell_type": "markdown",
   "id": "330d18d2-8726-4d9f-95ba-a0fdafb6dc5b",
   "metadata": {},
   "source": [
    "# Column/feature altering\n",
    "Here we will test 3 approaches to column altering \n",
    "Permutation where we will permute random column\n",
    "Zeroing each column\n",
    "Replacing all values form a column with random values from uniform distribution"
   ]
  },
  {
   "cell_type": "markdown",
   "id": "bf13b3df-121c-4ee7-8619-0d380c6c0fd2",
   "metadata": {},
   "source": [
    "### Permutation"
   ]
  },
  {
   "cell_type": "code",
   "execution_count": 225,
   "id": "19f1ad1b-82db-4110-a995-5bd90eed2c5a",
   "metadata": {},
   "outputs": [],
   "source": [
    "from IPython.display import clear_output"
   ]
  },
  {
   "cell_type": "code",
   "execution_count": 273,
   "id": "488fa58b-3ecc-4fe0-9698-ed8678d905b7",
   "metadata": {},
   "outputs": [],
   "source": [
    "df2_test = pd.DataFrame(X_test2.copy(),columns = df.columns[1:])"
   ]
  },
  {
   "cell_type": "code",
   "execution_count": 275,
   "id": "db389233-bb16-4e98-9dd7-3c4fa72f8b85",
   "metadata": {},
   "outputs": [
    {
     "data": {
      "text/html": [
       "<div>\n",
       "<style scoped>\n",
       "    .dataframe tbody tr th:only-of-type {\n",
       "        vertical-align: middle;\n",
       "    }\n",
       "\n",
       "    .dataframe tbody tr th {\n",
       "        vertical-align: top;\n",
       "    }\n",
       "\n",
       "    .dataframe thead th {\n",
       "        text-align: right;\n",
       "    }\n",
       "</style>\n",
       "<table border=\"1\" class=\"dataframe\">\n",
       "  <thead>\n",
       "    <tr style=\"text-align: right;\">\n",
       "      <th></th>\n",
       "      <th>d__Bacteria;p__Firmicutes;c__Bacilli;o__Erysipelotrichales;f__Erysipelotrichaceae</th>\n",
       "      <th>d__Bacteria;p__Proteobacteria;c__Gammaproteobacteria;o__Aeromonadales;f__Aeromonadaceae</th>\n",
       "      <th>d__Bacteria;p__Firmicutes;c__Clostridia;o__Clostridiales;f__Clostridiaceae</th>\n",
       "      <th>d__Bacteria;p__Firmicutes;c__Bacilli;o__Lactobacillales;f__Enterococcaceae</th>\n",
       "      <th>d__Bacteria;p__Proteobacteria;c__Gammaproteobacteria;o__Enterobacterales;f__Yersiniaceae</th>\n",
       "      <th>d__Bacteria;p__Proteobacteria;c__Gammaproteobacteria;__;__</th>\n",
       "      <th>d__Bacteria;p__Proteobacteria;c__Gammaproteobacteria;o__Enterobacterales;f__Enterobacteriaceae</th>\n",
       "      <th>d__Bacteria;p__Fusobacteriota;c__Fusobacteriia;o__Fusobacteriales;f__Fusobacteriaceae</th>\n",
       "      <th>d__Bacteria;p__Bacteroidota;c__Bacteroidia;o__Bacteroidales;f__Dysgonomonadaceae</th>\n",
       "      <th>d__Bacteria;p__Firmicutes;c__Bacilli;o__Erysipelotrichales;f__Erysipelatoclostridiaceae</th>\n",
       "      <th>...</th>\n",
       "      <th>d__Bacteria;p__Proteobacteria;c__Gammaproteobacteria;o__Alteromonadales;f__Alteromonadaceae</th>\n",
       "      <th>d__Bacteria;p__Acidobacteriota;c__Vicinamibacteria;o__Vicinamibacterales;f__uncultured</th>\n",
       "      <th>d__Bacteria;p__Verrucomicrobiota;c__Verrucomicrobiae;o__Pedosphaerales;f__Pedosphaeraceae</th>\n",
       "      <th>d__Bacteria;p__Firmicutes;c__Negativicutes;o__Veillonellales-Selenomonadales;f__Sporomusaceae</th>\n",
       "      <th>d__Bacteria;p__Proteobacteria;c__Gammaproteobacteria;o__Burkholderiales;f__Alcaligenaceae</th>\n",
       "      <th>d__Bacteria;p__Proteobacteria;c__Gammaproteobacteria;o__Vibrionales;f__Vibrionaceae</th>\n",
       "      <th>d__Bacteria;p__Proteobacteria;c__Gammaproteobacteria;o__Pseudomonadales;f__Moraxellaceae</th>\n",
       "      <th>d__Bacteria;p__Bacteroidota;c__Bacteroidia;o__Flavobacteriales;f__Crocinitomicaceae</th>\n",
       "      <th>d__Bacteria;p__Campilobacterota;c__Campylobacteria;o__Campylobacterales;f__Arcobacteraceae</th>\n",
       "      <th>d__Bacteria;p__Actinobacteriota;c__Actinobacteria;o__Actinomycetales;f__Actinomycetaceae</th>\n",
       "    </tr>\n",
       "  </thead>\n",
       "  <tbody>\n",
       "    <tr>\n",
       "      <th>0</th>\n",
       "      <td>1.0</td>\n",
       "      <td>0.0</td>\n",
       "      <td>0.126629</td>\n",
       "      <td>0.0</td>\n",
       "      <td>1.000000</td>\n",
       "      <td>1.000000</td>\n",
       "      <td>0.250474</td>\n",
       "      <td>0.340176</td>\n",
       "      <td>0.305263</td>\n",
       "      <td>0.0</td>\n",
       "      <td>...</td>\n",
       "      <td>0.0</td>\n",
       "      <td>0.0000</td>\n",
       "      <td>0.366667</td>\n",
       "      <td>0.0</td>\n",
       "      <td>0.0</td>\n",
       "      <td>0.0</td>\n",
       "      <td>0.011952</td>\n",
       "      <td>0.000000</td>\n",
       "      <td>0.000</td>\n",
       "      <td>0.0</td>\n",
       "    </tr>\n",
       "    <tr>\n",
       "      <th>1</th>\n",
       "      <td>0.0</td>\n",
       "      <td>0.0</td>\n",
       "      <td>0.996276</td>\n",
       "      <td>0.0</td>\n",
       "      <td>0.533333</td>\n",
       "      <td>0.104167</td>\n",
       "      <td>0.121442</td>\n",
       "      <td>0.008798</td>\n",
       "      <td>0.036842</td>\n",
       "      <td>0.0</td>\n",
       "      <td>...</td>\n",
       "      <td>0.0</td>\n",
       "      <td>0.0256</td>\n",
       "      <td>0.500000</td>\n",
       "      <td>0.0</td>\n",
       "      <td>0.0</td>\n",
       "      <td>0.0</td>\n",
       "      <td>0.031873</td>\n",
       "      <td>1.000000</td>\n",
       "      <td>0.875</td>\n",
       "      <td>0.0</td>\n",
       "    </tr>\n",
       "    <tr>\n",
       "      <th>2</th>\n",
       "      <td>0.0</td>\n",
       "      <td>0.0</td>\n",
       "      <td>0.000000</td>\n",
       "      <td>0.0</td>\n",
       "      <td>0.000000</td>\n",
       "      <td>0.000000</td>\n",
       "      <td>0.037951</td>\n",
       "      <td>0.029814</td>\n",
       "      <td>0.000000</td>\n",
       "      <td>0.0</td>\n",
       "      <td>...</td>\n",
       "      <td>0.0</td>\n",
       "      <td>0.0000</td>\n",
       "      <td>0.000000</td>\n",
       "      <td>0.0</td>\n",
       "      <td>0.0</td>\n",
       "      <td>0.0</td>\n",
       "      <td>0.000598</td>\n",
       "      <td>0.000000</td>\n",
       "      <td>0.000</td>\n",
       "      <td>0.0</td>\n",
       "    </tr>\n",
       "    <tr>\n",
       "      <th>3</th>\n",
       "      <td>0.0</td>\n",
       "      <td>0.0</td>\n",
       "      <td>0.009311</td>\n",
       "      <td>0.0</td>\n",
       "      <td>0.000000</td>\n",
       "      <td>0.000000</td>\n",
       "      <td>0.000000</td>\n",
       "      <td>0.026393</td>\n",
       "      <td>0.231579</td>\n",
       "      <td>0.0</td>\n",
       "      <td>...</td>\n",
       "      <td>0.0</td>\n",
       "      <td>0.0000</td>\n",
       "      <td>0.000000</td>\n",
       "      <td>0.0</td>\n",
       "      <td>0.0</td>\n",
       "      <td>0.0</td>\n",
       "      <td>0.006773</td>\n",
       "      <td>0.939252</td>\n",
       "      <td>0.000</td>\n",
       "      <td>0.0</td>\n",
       "    </tr>\n",
       "    <tr>\n",
       "      <th>4</th>\n",
       "      <td>0.0</td>\n",
       "      <td>0.0</td>\n",
       "      <td>0.000000</td>\n",
       "      <td>0.0</td>\n",
       "      <td>0.000000</td>\n",
       "      <td>0.000000</td>\n",
       "      <td>0.000000</td>\n",
       "      <td>0.021017</td>\n",
       "      <td>0.000000</td>\n",
       "      <td>0.0</td>\n",
       "      <td>...</td>\n",
       "      <td>0.0</td>\n",
       "      <td>0.0000</td>\n",
       "      <td>0.000000</td>\n",
       "      <td>0.0</td>\n",
       "      <td>0.0</td>\n",
       "      <td>0.0</td>\n",
       "      <td>0.000598</td>\n",
       "      <td>0.000000</td>\n",
       "      <td>0.000</td>\n",
       "      <td>0.0</td>\n",
       "    </tr>\n",
       "  </tbody>\n",
       "</table>\n",
       "<p>5 rows × 126 columns</p>\n",
       "</div>"
      ],
      "text/plain": [
       "   d__Bacteria;p__Firmicutes;c__Bacilli;o__Erysipelotrichales;f__Erysipelotrichaceae  \\\n",
       "0                                                1.0                                   \n",
       "1                                                0.0                                   \n",
       "2                                                0.0                                   \n",
       "3                                                0.0                                   \n",
       "4                                                0.0                                   \n",
       "\n",
       "   d__Bacteria;p__Proteobacteria;c__Gammaproteobacteria;o__Aeromonadales;f__Aeromonadaceae  \\\n",
       "0                                                0.0                                         \n",
       "1                                                0.0                                         \n",
       "2                                                0.0                                         \n",
       "3                                                0.0                                         \n",
       "4                                                0.0                                         \n",
       "\n",
       "   d__Bacteria;p__Firmicutes;c__Clostridia;o__Clostridiales;f__Clostridiaceae  \\\n",
       "0                                           0.126629                            \n",
       "1                                           0.996276                            \n",
       "2                                           0.000000                            \n",
       "3                                           0.009311                            \n",
       "4                                           0.000000                            \n",
       "\n",
       "   d__Bacteria;p__Firmicutes;c__Bacilli;o__Lactobacillales;f__Enterococcaceae  \\\n",
       "0                                                0.0                            \n",
       "1                                                0.0                            \n",
       "2                                                0.0                            \n",
       "3                                                0.0                            \n",
       "4                                                0.0                            \n",
       "\n",
       "   d__Bacteria;p__Proteobacteria;c__Gammaproteobacteria;o__Enterobacterales;f__Yersiniaceae  \\\n",
       "0                                           1.000000                                          \n",
       "1                                           0.533333                                          \n",
       "2                                           0.000000                                          \n",
       "3                                           0.000000                                          \n",
       "4                                           0.000000                                          \n",
       "\n",
       "   d__Bacteria;p__Proteobacteria;c__Gammaproteobacteria;__;__  \\\n",
       "0                                           1.000000            \n",
       "1                                           0.104167            \n",
       "2                                           0.000000            \n",
       "3                                           0.000000            \n",
       "4                                           0.000000            \n",
       "\n",
       "   d__Bacteria;p__Proteobacteria;c__Gammaproteobacteria;o__Enterobacterales;f__Enterobacteriaceae  \\\n",
       "0                                           0.250474                                                \n",
       "1                                           0.121442                                                \n",
       "2                                           0.037951                                                \n",
       "3                                           0.000000                                                \n",
       "4                                           0.000000                                                \n",
       "\n",
       "   d__Bacteria;p__Fusobacteriota;c__Fusobacteriia;o__Fusobacteriales;f__Fusobacteriaceae  \\\n",
       "0                                           0.340176                                       \n",
       "1                                           0.008798                                       \n",
       "2                                           0.029814                                       \n",
       "3                                           0.026393                                       \n",
       "4                                           0.021017                                       \n",
       "\n",
       "   d__Bacteria;p__Bacteroidota;c__Bacteroidia;o__Bacteroidales;f__Dysgonomonadaceae  \\\n",
       "0                                           0.305263                                  \n",
       "1                                           0.036842                                  \n",
       "2                                           0.000000                                  \n",
       "3                                           0.231579                                  \n",
       "4                                           0.000000                                  \n",
       "\n",
       "   d__Bacteria;p__Firmicutes;c__Bacilli;o__Erysipelotrichales;f__Erysipelatoclostridiaceae  \\\n",
       "0                                                0.0                                         \n",
       "1                                                0.0                                         \n",
       "2                                                0.0                                         \n",
       "3                                                0.0                                         \n",
       "4                                                0.0                                         \n",
       "\n",
       "   ...  \\\n",
       "0  ...   \n",
       "1  ...   \n",
       "2  ...   \n",
       "3  ...   \n",
       "4  ...   \n",
       "\n",
       "   d__Bacteria;p__Proteobacteria;c__Gammaproteobacteria;o__Alteromonadales;f__Alteromonadaceae  \\\n",
       "0                                                0.0                                             \n",
       "1                                                0.0                                             \n",
       "2                                                0.0                                             \n",
       "3                                                0.0                                             \n",
       "4                                                0.0                                             \n",
       "\n",
       "   d__Bacteria;p__Acidobacteriota;c__Vicinamibacteria;o__Vicinamibacterales;f__uncultured  \\\n",
       "0                                             0.0000                                        \n",
       "1                                             0.0256                                        \n",
       "2                                             0.0000                                        \n",
       "3                                             0.0000                                        \n",
       "4                                             0.0000                                        \n",
       "\n",
       "   d__Bacteria;p__Verrucomicrobiota;c__Verrucomicrobiae;o__Pedosphaerales;f__Pedosphaeraceae  \\\n",
       "0                                           0.366667                                           \n",
       "1                                           0.500000                                           \n",
       "2                                           0.000000                                           \n",
       "3                                           0.000000                                           \n",
       "4                                           0.000000                                           \n",
       "\n",
       "   d__Bacteria;p__Firmicutes;c__Negativicutes;o__Veillonellales-Selenomonadales;f__Sporomusaceae  \\\n",
       "0                                                0.0                                               \n",
       "1                                                0.0                                               \n",
       "2                                                0.0                                               \n",
       "3                                                0.0                                               \n",
       "4                                                0.0                                               \n",
       "\n",
       "   d__Bacteria;p__Proteobacteria;c__Gammaproteobacteria;o__Burkholderiales;f__Alcaligenaceae  \\\n",
       "0                                                0.0                                           \n",
       "1                                                0.0                                           \n",
       "2                                                0.0                                           \n",
       "3                                                0.0                                           \n",
       "4                                                0.0                                           \n",
       "\n",
       "   d__Bacteria;p__Proteobacteria;c__Gammaproteobacteria;o__Vibrionales;f__Vibrionaceae  \\\n",
       "0                                                0.0                                     \n",
       "1                                                0.0                                     \n",
       "2                                                0.0                                     \n",
       "3                                                0.0                                     \n",
       "4                                                0.0                                     \n",
       "\n",
       "   d__Bacteria;p__Proteobacteria;c__Gammaproteobacteria;o__Pseudomonadales;f__Moraxellaceae  \\\n",
       "0                                           0.011952                                          \n",
       "1                                           0.031873                                          \n",
       "2                                           0.000598                                          \n",
       "3                                           0.006773                                          \n",
       "4                                           0.000598                                          \n",
       "\n",
       "   d__Bacteria;p__Bacteroidota;c__Bacteroidia;o__Flavobacteriales;f__Crocinitomicaceae  \\\n",
       "0                                           0.000000                                     \n",
       "1                                           1.000000                                     \n",
       "2                                           0.000000                                     \n",
       "3                                           0.939252                                     \n",
       "4                                           0.000000                                     \n",
       "\n",
       "   d__Bacteria;p__Campilobacterota;c__Campylobacteria;o__Campylobacterales;f__Arcobacteraceae  \\\n",
       "0                                              0.000                                            \n",
       "1                                              0.875                                            \n",
       "2                                              0.000                                            \n",
       "3                                              0.000                                            \n",
       "4                                              0.000                                            \n",
       "\n",
       "   d__Bacteria;p__Actinobacteriota;c__Actinobacteria;o__Actinomycetales;f__Actinomycetaceae  \n",
       "0                                                0.0                                         \n",
       "1                                                0.0                                         \n",
       "2                                                0.0                                         \n",
       "3                                                0.0                                         \n",
       "4                                                0.0                                         \n",
       "\n",
       "[5 rows x 126 columns]"
      ]
     },
     "execution_count": 275,
     "metadata": {},
     "output_type": "execute_result"
    }
   ],
   "source": [
    "df2_test.head()"
   ]
  },
  {
   "cell_type": "code",
   "execution_count": 226,
   "id": "7914fa48-f337-4892-b0b6-f78824f11818",
   "metadata": {},
   "outputs": [],
   "source": [
    "df_test = pd.DataFrame(X_test2.copy())\n",
    "df_train = pd.DataFrame(X_train2.copy())"
   ]
  },
  {
   "cell_type": "code",
   "execution_count": null,
   "id": "74090779-2bc5-42e4-9576-f17cbb041dc7",
   "metadata": {},
   "outputs": [],
   "source": [
    "# collumn permutation\n",
    "results_dfp = pd.DataFrame(columns=['feature', 'train_loss', 'train_acc', 'test_loss', 'test_acc'])\n",
    "def permute_column(column):\n",
    "    return np.random.permutation(column)\n",
    "\n",
    "# Permute data in each column\n",
    "N = 100\n",
    "\n",
    "\n",
    "\n",
    "feature = [0]*N\n",
    "train_loss = [0]*N\n",
    "train_acc = [0]*N\n",
    "test_loss = [0]*N\n",
    "test_acc = [0]*N\n",
    "for column in df_test.columns:\n",
    "    \n",
    "    for i in range(N):\n",
    "        \n",
    "        print(f\"processing {column}\")\n",
    "        print(f'{i/N*100}% procesing {i} out of {N}')\n",
    "    \n",
    "        dfp_train = df_train.copy()\n",
    "        dfp_test = df_test.copy()\n",
    "\n",
    "\n",
    "        permuted_column_train = np.random.permutation(dfp_train[column])\n",
    "        permuted_column_test = np.random.permutation(dfp_test[column])\n",
    "\n",
    "    # Update the DataFrame with the permuted column\n",
    "        dfp_train[column] = permuted_column_train\n",
    "        dfp_test[column] = permuted_column_test\n",
    "\n",
    "        ev_train = model2.evaluate(dfp_train, y_train2)\n",
    "        ev_test = model2.evaluate(dfp_test, y_test2)\n",
    "\n",
    "        feature[i]=str(column)\n",
    "        train_loss[i]=ev_train[0]\n",
    "        train_acc[i]=ev_train[1]\n",
    "        test_loss[i]=ev_test[0]\n",
    "        test_acc[i]=ev_test[1]\n",
    "        clear_output(wait=True)\n",
    "\n",
    "    col_df = pd.DataFrame({'feature':feature ,'train_loss':train_loss,'train_acc':train_acc ,'test_loss':test_loss ,'test_acc':test_acc })\n",
    "    results_dfp = pd.concat([results_dfp, col_df],ignore_index = True)\n",
    "    "
   ]
  },
  {
   "cell_type": "code",
   "execution_count": 3,
   "id": "27290f26-8ee4-4c75-a783-922d49fdb8fd",
   "metadata": {},
   "outputs": [],
   "source": [
    "#results_dfp.to_csv('results_df_12500.csv', index=False)\n",
    "results_dfp = pd.read_csv('results_dfp_12500.csv')"
   ]
  },
  {
   "cell_type": "code",
   "execution_count": 4,
   "id": "e172311b-121a-45e0-8877-46f2e1314aea",
   "metadata": {},
   "outputs": [
    {
     "data": {
      "text/html": [
       "<div>\n",
       "<style scoped>\n",
       "    .dataframe tbody tr th:only-of-type {\n",
       "        vertical-align: middle;\n",
       "    }\n",
       "\n",
       "    .dataframe tbody tr th {\n",
       "        vertical-align: top;\n",
       "    }\n",
       "\n",
       "    .dataframe thead th {\n",
       "        text-align: right;\n",
       "    }\n",
       "</style>\n",
       "<table border=\"1\" class=\"dataframe\">\n",
       "  <thead>\n",
       "    <tr style=\"text-align: right;\">\n",
       "      <th></th>\n",
       "      <th>feature</th>\n",
       "      <th>train_loss</th>\n",
       "      <th>train_acc</th>\n",
       "      <th>test_loss</th>\n",
       "      <th>test_acc</th>\n",
       "    </tr>\n",
       "  </thead>\n",
       "  <tbody>\n",
       "    <tr>\n",
       "      <th>0</th>\n",
       "      <td>0</td>\n",
       "      <td>0.181770</td>\n",
       "      <td>0.930233</td>\n",
       "      <td>0.341733</td>\n",
       "      <td>0.868421</td>\n",
       "    </tr>\n",
       "    <tr>\n",
       "      <th>1</th>\n",
       "      <td>0</td>\n",
       "      <td>0.181770</td>\n",
       "      <td>0.930233</td>\n",
       "      <td>0.342038</td>\n",
       "      <td>0.868421</td>\n",
       "    </tr>\n",
       "    <tr>\n",
       "      <th>2</th>\n",
       "      <td>0</td>\n",
       "      <td>0.181708</td>\n",
       "      <td>0.930233</td>\n",
       "      <td>0.342051</td>\n",
       "      <td>0.868421</td>\n",
       "    </tr>\n",
       "    <tr>\n",
       "      <th>3</th>\n",
       "      <td>0</td>\n",
       "      <td>0.181646</td>\n",
       "      <td>0.930233</td>\n",
       "      <td>0.342067</td>\n",
       "      <td>0.868421</td>\n",
       "    </tr>\n",
       "    <tr>\n",
       "      <th>4</th>\n",
       "      <td>0</td>\n",
       "      <td>0.181701</td>\n",
       "      <td>0.930233</td>\n",
       "      <td>0.341828</td>\n",
       "      <td>0.868421</td>\n",
       "    </tr>\n",
       "    <tr>\n",
       "      <th>...</th>\n",
       "      <td>...</td>\n",
       "      <td>...</td>\n",
       "      <td>...</td>\n",
       "      <td>...</td>\n",
       "      <td>...</td>\n",
       "    </tr>\n",
       "    <tr>\n",
       "      <th>12595</th>\n",
       "      <td>125</td>\n",
       "      <td>0.182781</td>\n",
       "      <td>0.930233</td>\n",
       "      <td>0.388951</td>\n",
       "      <td>0.842105</td>\n",
       "    </tr>\n",
       "    <tr>\n",
       "      <th>12596</th>\n",
       "      <td>125</td>\n",
       "      <td>0.186962</td>\n",
       "      <td>0.930233</td>\n",
       "      <td>0.338350</td>\n",
       "      <td>0.868421</td>\n",
       "    </tr>\n",
       "    <tr>\n",
       "      <th>12597</th>\n",
       "      <td>125</td>\n",
       "      <td>0.182607</td>\n",
       "      <td>0.930233</td>\n",
       "      <td>0.399835</td>\n",
       "      <td>0.842105</td>\n",
       "    </tr>\n",
       "    <tr>\n",
       "      <th>12598</th>\n",
       "      <td>125</td>\n",
       "      <td>0.183059</td>\n",
       "      <td>0.930233</td>\n",
       "      <td>0.346310</td>\n",
       "      <td>0.868421</td>\n",
       "    </tr>\n",
       "    <tr>\n",
       "      <th>12599</th>\n",
       "      <td>125</td>\n",
       "      <td>0.186214</td>\n",
       "      <td>0.930233</td>\n",
       "      <td>0.350473</td>\n",
       "      <td>0.868421</td>\n",
       "    </tr>\n",
       "  </tbody>\n",
       "</table>\n",
       "<p>12600 rows × 5 columns</p>\n",
       "</div>"
      ],
      "text/plain": [
       "       feature  train_loss  train_acc  test_loss  test_acc\n",
       "0            0    0.181770   0.930233   0.341733  0.868421\n",
       "1            0    0.181770   0.930233   0.342038  0.868421\n",
       "2            0    0.181708   0.930233   0.342051  0.868421\n",
       "3            0    0.181646   0.930233   0.342067  0.868421\n",
       "4            0    0.181701   0.930233   0.341828  0.868421\n",
       "...        ...         ...        ...        ...       ...\n",
       "12595      125    0.182781   0.930233   0.388951  0.842105\n",
       "12596      125    0.186962   0.930233   0.338350  0.868421\n",
       "12597      125    0.182607   0.930233   0.399835  0.842105\n",
       "12598      125    0.183059   0.930233   0.346310  0.868421\n",
       "12599      125    0.186214   0.930233   0.350473  0.868421\n",
       "\n",
       "[12600 rows x 5 columns]"
      ]
     },
     "execution_count": 4,
     "metadata": {},
     "output_type": "execute_result"
    }
   ],
   "source": []
  },
  {
   "cell_type": "code",
   "execution_count": 230,
   "id": "5f5aca08-f24d-4529-946f-c59446b2cc96",
   "metadata": {},
   "outputs": [],
   "source": [
    "from scipy import stats"
   ]
  },
  {
   "cell_type": "code",
   "execution_count": 279,
   "id": "45b18010-38b4-41ca-8f43-32f49270a58f",
   "metadata": {},
   "outputs": [
    {
     "data": {
      "text/plain": [
       "<Axes: xlabel='feature'>"
      ]
     },
     "execution_count": 279,
     "metadata": {},
     "output_type": "execute_result"
    },
    {
     "data": {
      "image/png": "[encoded data removed]",
      "text/plain": [
       "<Figure size 640x480 with 1 Axes>"
      ]
     },
     "metadata": {},
     "output_type": "display_data"
    }
   ],
   "source": [
    "results_dfp.groupby('feature').median()['test_acc'].plot()"
   ]
  },
  {
   "cell_type": "code",
   "execution_count": 285,
   "id": "bab6134d-6c5e-4fb2-ac90-db57031cfbe1",
   "metadata": {},
   "outputs": [
    {
     "ename": "AttributeError",
     "evalue": "module 'tensorflow' has no attribute 'Constant'",
     "output_type": "error",
     "traceback": [
      "\u001b[1;31m---------------------------------------------------------------------------\u001b[0m",
      "\u001b[1;31mAttributeError\u001b[0m                            Traceback (most recent call last)",
      "Cell \u001b[1;32mIn[285], line 1\u001b[0m\n\u001b[1;32m----> 1\u001b[0m \u001b[43mtf\u001b[49m\u001b[38;5;241;43m.\u001b[39;49m\u001b[43mConstant\u001b[49m(\u001b[38;5;241m42\u001b[39m)\n",
      "\u001b[1;31mAttributeError\u001b[0m: module 'tensorflow' has no attribute 'Constant'"
     ]
    }
   ],
   "source": []
  },
  {
   "cell_type": "code",
   "execution_count": 231,
   "id": "62e0008f-9fb5-40dd-918a-a12073df591b",
   "metadata": {},
   "outputs": [
    {
     "data": {
      "text/plain": [
       "<Axes: >"
      ]
     },
     "execution_count": 231,
     "metadata": {},
     "output_type": "execute_result"
    },
    {
     "data": {
      "image/png": "[encoded data removed]",
      "text/plain": [
       "<Figure size 640x480 with 1 Axes>"
      ]
     },
     "metadata": {},
     "output_type": "display_data"
    }
   ],
   "source": [
    "results_dfp['test_acc'].plot()"
   ]
  },
  {
   "cell_type": "code",
   "execution_count": 232,
   "id": "7f44124e-0ad8-4c73-980a-d56b832f0214",
   "metadata": {},
   "outputs": [],
   "source": [
    "grouped_dfp = results_dfp.groupby('feature').mean().reset_index()"
   ]
  },
  {
   "cell_type": "code",
   "execution_count": null,
   "id": "eaefc6a8-2c40-4b0a-a677-70ae18636b92",
   "metadata": {},
   "outputs": [],
   "source": [
    "results_dfp.loc[results_dfp['feature']== '1'].hist()\n",
    "plt.show()"
   ]
  },
  {
   "cell_type": "code",
   "execution_count": 234,
   "id": "f12c4b20-418a-4b24-b180-0a6922434f26",
   "metadata": {},
   "outputs": [
    {
     "data": {
      "text/plain": [
       "<Axes: >"
      ]
     },
     "execution_count": 234,
     "metadata": {},
     "output_type": "execute_result"
    },
    {
     "data": {
      "image/png": "[encoded data removed]",
      "text/plain": [
       "<Figure size 640x480 with 1 Axes>"
      ]
     },
     "metadata": {},
     "output_type": "display_data"
    }
   ],
   "source": [
    "grouped_dfp['test_acc'].plot()"
   ]
  },
  {
   "cell_type": "code",
   "execution_count": 240,
   "id": "28957fa8-e9f3-4b6c-a062-a31d309884bb",
   "metadata": {},
   "outputs": [],
   "source": [
    "stats_dfp = pd.DataFrame(columns = ['feature','shapiro_pval','shapiro_pval_log','shapiro_pval_exp','tt_pval'])"
   ]
  },
  {
   "cell_type": "code",
   "execution_count": 243,
   "id": "8dcda6b9-67ab-439a-9c75-bf81bed25db5",
   "metadata": {},
   "outputs": [
    {
     "data": {
      "text/html": [
       "<div>\n",
       "<style scoped>\n",
       "    .dataframe tbody tr th:only-of-type {\n",
       "        vertical-align: middle;\n",
       "    }\n",
       "\n",
       "    .dataframe tbody tr th {\n",
       "        vertical-align: top;\n",
       "    }\n",
       "\n",
       "    .dataframe thead th {\n",
       "        text-align: right;\n",
       "    }\n",
       "</style>\n",
       "<table border=\"1\" class=\"dataframe\">\n",
       "  <thead>\n",
       "    <tr style=\"text-align: right;\">\n",
       "      <th></th>\n",
       "      <th>feature</th>\n",
       "      <th>shapiro_pval</th>\n",
       "      <th>shapiro_pval_log</th>\n",
       "      <th>shapiro_pval_exp</th>\n",
       "      <th>tt_pval</th>\n",
       "    </tr>\n",
       "  </thead>\n",
       "  <tbody>\n",
       "    <tr>\n",
       "      <th>0</th>\n",
       "      <td>0</td>\n",
       "      <td>1.349327e-20</td>\n",
       "      <td>1.0</td>\n",
       "      <td>1.501516e-20</td>\n",
       "      <td>NaN</td>\n",
       "    </tr>\n",
       "    <tr>\n",
       "      <th>1</th>\n",
       "      <td>1</td>\n",
       "      <td>1.233280e-20</td>\n",
       "      <td>1.0</td>\n",
       "      <td>1.316181e-20</td>\n",
       "      <td>NaN</td>\n",
       "    </tr>\n",
       "    <tr>\n",
       "      <th>2</th>\n",
       "      <td>2</td>\n",
       "      <td>1.692502e-20</td>\n",
       "      <td>1.0</td>\n",
       "      <td>2.092616e-20</td>\n",
       "      <td>NaN</td>\n",
       "    </tr>\n",
       "    <tr>\n",
       "      <th>3</th>\n",
       "      <td>3</td>\n",
       "      <td>1.982285e-20</td>\n",
       "      <td>1.0</td>\n",
       "      <td>2.673441e-20</td>\n",
       "      <td>NaN</td>\n",
       "    </tr>\n",
       "    <tr>\n",
       "      <th>4</th>\n",
       "      <td>4</td>\n",
       "      <td>2.136653e-20</td>\n",
       "      <td>1.0</td>\n",
       "      <td>2.998470e-20</td>\n",
       "      <td>NaN</td>\n",
       "    </tr>\n",
       "    <tr>\n",
       "      <th>...</th>\n",
       "      <td>...</td>\n",
       "      <td>...</td>\n",
       "      <td>...</td>\n",
       "      <td>...</td>\n",
       "      <td>...</td>\n",
       "    </tr>\n",
       "    <tr>\n",
       "      <th>121</th>\n",
       "      <td>121</td>\n",
       "      <td>1.474126e-20</td>\n",
       "      <td>1.0</td>\n",
       "      <td>1.719788e-20</td>\n",
       "      <td>NaN</td>\n",
       "    </tr>\n",
       "    <tr>\n",
       "      <th>122</th>\n",
       "      <td>122</td>\n",
       "      <td>1.261897e-20</td>\n",
       "      <td>1.0</td>\n",
       "      <td>1.361043e-20</td>\n",
       "      <td>NaN</td>\n",
       "    </tr>\n",
       "    <tr>\n",
       "      <th>123</th>\n",
       "      <td>123</td>\n",
       "      <td>1.569916e-19</td>\n",
       "      <td>1.0</td>\n",
       "      <td>5.573284e-19</td>\n",
       "      <td>NaN</td>\n",
       "    </tr>\n",
       "    <tr>\n",
       "      <th>124</th>\n",
       "      <td>124</td>\n",
       "      <td>1.233280e-20</td>\n",
       "      <td>1.0</td>\n",
       "      <td>1.316181e-20</td>\n",
       "      <td>NaN</td>\n",
       "    </tr>\n",
       "    <tr>\n",
       "      <th>125</th>\n",
       "      <td>125</td>\n",
       "      <td>3.339855e-20</td>\n",
       "      <td>1.0</td>\n",
       "      <td>5.800480e-20</td>\n",
       "      <td>NaN</td>\n",
       "    </tr>\n",
       "  </tbody>\n",
       "</table>\n",
       "<p>126 rows × 5 columns</p>\n",
       "</div>"
      ],
      "text/plain": [
       "    feature  shapiro_pval  shapiro_pval_log  shapiro_pval_exp tt_pval\n",
       "0         0  1.349327e-20               1.0      1.501516e-20     NaN\n",
       "1         1  1.233280e-20               1.0      1.316181e-20     NaN\n",
       "2         2  1.692502e-20               1.0      2.092616e-20     NaN\n",
       "3         3  1.982285e-20               1.0      2.673441e-20     NaN\n",
       "4         4  2.136653e-20               1.0      2.998470e-20     NaN\n",
       "..      ...           ...               ...               ...     ...\n",
       "121     121  1.474126e-20               1.0      1.719788e-20     NaN\n",
       "122     122  1.261897e-20               1.0      1.361043e-20     NaN\n",
       "123     123  1.569916e-19               1.0      5.573284e-19     NaN\n",
       "124     124  1.233280e-20               1.0      1.316181e-20     NaN\n",
       "125     125  3.339855e-20               1.0      5.800480e-20     NaN\n",
       "\n",
       "[126 rows x 5 columns]"
      ]
     },
     "execution_count": 243,
     "metadata": {},
     "output_type": "execute_result"
    }
   ],
   "source": [
    "stats_dfp"
   ]
  },
  {
   "cell_type": "code",
   "execution_count": 242,
   "id": "870040e6-2ea2-444d-9db6-b5195f8f5d99",
   "metadata": {},
   "outputs": [
    {
     "name": "stderr",
     "output_type": "stream",
     "text": [
      "C:\\Users\\marek\\AppData\\Local\\Packages\\PythonSoftwareFoundation.Python.3.11_qbz5n2kfra8p0\\LocalCache\\local-packages\\Python311\\site-packages\\pandas\\core\\arraylike.py:396: RuntimeWarning: divide by zero encountered in log\n",
      "  result = getattr(ufunc, method)(*inputs, **kwargs)\n",
      "C:\\Users\\marek\\AppData\\Local\\Temp\\ipykernel_30188\\2864085917.py:22: FutureWarning: The behavior of DataFrame concatenation with empty or all-NA entries is deprecated. In a future version, this will no longer exclude empty or all-NA columns when determining the result dtypes. To retain the old behavior, exclude the relevant entries before the concat operation.\n",
      "  stats_dfp = pd.concat([stats_dfp, col_df],ignore_index = True)\n"
     ]
    }
   ],
   "source": [
    "base_acc = 0.8684\n",
    "\n",
    "for feature in results_dfp['feature'].unique():\n",
    "    sample = results_dfp.loc[results_dfp['feature']== feature]\n",
    "    sample_acc = sample['test_acc']\n",
    "    \n",
    "    sample_acc_log = np.log(sample_acc)\n",
    "    sample_acc_exp = np.exp(sample_acc)\n",
    "    _ , pval = stats.shapiro(sample_acc)\n",
    "    _ , pval_log = stats.shapiro(sample_acc_log)\n",
    "    _ , pval_exp = stats.shapiro(sample_acc_exp)\n",
    "    \n",
    "    #features.append(feature)\n",
    "    #shap_pvalues.append(pval)\n",
    "    if pval > 0.05:\n",
    "        t_statistic, tpval = stats.ttest_1samp(sample_acc,base_acc)\n",
    "    else:\n",
    "        tpval = pd.NA\n",
    "        #tt_pvalues.append(tpval)\n",
    "    \n",
    "    col_df = pd.DataFrame({'feature':[feature] ,'shapiro_pval':[pval],'shapiro_pval_log':[pval_log],'shapiro_pval_exp':[pval_exp],'tt_pval':[tpval]})\n",
    "    stats_dfp = pd.concat([stats_dfp, col_df],ignore_index = True)"
   ]
  },
  {
   "cell_type": "code",
   "execution_count": null,
   "id": "b84c0ff7-4382-4ba5-a2d1-f0572cc2c2f0",
   "metadata": {},
   "outputs": [],
   "source": [
    "#stats_dfp.to_csv('stats_dfp.csv')"
   ]
  },
  {
   "cell_type": "code",
   "execution_count": 244,
   "id": "80c9d943-8221-4bff-9c32-d000cb3c6946",
   "metadata": {},
   "outputs": [
    {
     "data": {
      "text/html": [
       "<div>\n",
       "<style scoped>\n",
       "    .dataframe tbody tr th:only-of-type {\n",
       "        vertical-align: middle;\n",
       "    }\n",
       "\n",
       "    .dataframe tbody tr th {\n",
       "        vertical-align: top;\n",
       "    }\n",
       "\n",
       "    .dataframe thead th {\n",
       "        text-align: right;\n",
       "    }\n",
       "</style>\n",
       "<table border=\"1\" class=\"dataframe\">\n",
       "  <thead>\n",
       "    <tr style=\"text-align: right;\">\n",
       "      <th></th>\n",
       "      <th>shapiro_pval</th>\n",
       "      <th>shapiro_pval_log</th>\n",
       "      <th>shapiro_pval_exp</th>\n",
       "    </tr>\n",
       "  </thead>\n",
       "  <tbody>\n",
       "    <tr>\n",
       "      <th>count</th>\n",
       "      <td>1.260000e+02</td>\n",
       "      <td>126.0</td>\n",
       "      <td>1.260000e+02</td>\n",
       "    </tr>\n",
       "    <tr>\n",
       "      <th>mean</th>\n",
       "      <td>2.332455e-20</td>\n",
       "      <td>1.0</td>\n",
       "      <td>4.877419e-20</td>\n",
       "    </tr>\n",
       "    <tr>\n",
       "      <th>std</th>\n",
       "      <td>3.733444e-20</td>\n",
       "      <td>0.0</td>\n",
       "      <td>1.903206e-19</td>\n",
       "    </tr>\n",
       "    <tr>\n",
       "      <th>min</th>\n",
       "      <td>1.233280e-20</td>\n",
       "      <td>1.0</td>\n",
       "      <td>1.316181e-20</td>\n",
       "    </tr>\n",
       "    <tr>\n",
       "      <th>25%</th>\n",
       "      <td>1.233280e-20</td>\n",
       "      <td>1.0</td>\n",
       "      <td>1.316181e-20</td>\n",
       "    </tr>\n",
       "    <tr>\n",
       "      <th>50%</th>\n",
       "      <td>1.413259e-20</td>\n",
       "      <td>1.0</td>\n",
       "      <td>1.613031e-20</td>\n",
       "    </tr>\n",
       "    <tr>\n",
       "      <th>75%</th>\n",
       "      <td>2.204359e-20</td>\n",
       "      <td>1.0</td>\n",
       "      <td>3.125533e-20</td>\n",
       "    </tr>\n",
       "    <tr>\n",
       "      <th>max</th>\n",
       "      <td>3.968928e-19</td>\n",
       "      <td>1.0</td>\n",
       "      <td>2.080158e-18</td>\n",
       "    </tr>\n",
       "  </tbody>\n",
       "</table>\n",
       "</div>"
      ],
      "text/plain": [
       "       shapiro_pval  shapiro_pval_log  shapiro_pval_exp\n",
       "count  1.260000e+02             126.0      1.260000e+02\n",
       "mean   2.332455e-20               1.0      4.877419e-20\n",
       "std    3.733444e-20               0.0      1.903206e-19\n",
       "min    1.233280e-20               1.0      1.316181e-20\n",
       "25%    1.233280e-20               1.0      1.316181e-20\n",
       "50%    1.413259e-20               1.0      1.613031e-20\n",
       "75%    2.204359e-20               1.0      3.125533e-20\n",
       "max    3.968928e-19               1.0      2.080158e-18"
      ]
     },
     "execution_count": 244,
     "metadata": {},
     "output_type": "execute_result"
    }
   ],
   "source": [
    "stats_dfp.describe()"
   ]
  },
  {
   "cell_type": "code",
   "execution_count": 245,
   "id": "28435b71-5e21-4037-acaf-94a22a7f76ca",
   "metadata": {},
   "outputs": [
    {
     "data": {
      "image/png": "[encoded data removed]",
      "text/plain": [
       "<Figure size 640x480 with 1 Axes>"
      ]
     },
     "metadata": {},
     "output_type": "display_data"
    },
    {
     "data": {
      "image/png": "[encoded data removed]",
      "text/plain": [
       "<Figure size 640x480 with 1 Axes>"
      ]
     },
     "metadata": {},
     "output_type": "display_data"
    },
    {
     "data": {
      "image/png": "[encoded data removed]",
      "text/plain": [
       "<Figure size 640x480 with 1 Axes>"
      ]
     },
     "metadata": {},
     "output_type": "display_data"
    }
   ],
   "source": [
    "stats_dfp['shapiro_pval'].hist()\n",
    "plt.title(\"shapiro\")\n",
    "plt.show()\n",
    "stats_dfp['shapiro_pval_log'].hist()\n",
    "plt.title(\"shapiro_log\")\n",
    "plt.show()\n",
    "stats_dfp['shapiro_pval_exp'].hist()\n",
    "plt.title(\"shapiro_exp\")\n",
    "plt.show()\n"
   ]
  },
  {
   "cell_type": "code",
   "execution_count": 246,
   "id": "46f3f5da-3e24-40dd-9058-2326c3f0ecd4",
   "metadata": {},
   "outputs": [
    {
     "data": {
      "text/plain": [
       "Text(0.5, 1.0, 'tt_pval')"
      ]
     },
     "execution_count": 246,
     "metadata": {},
     "output_type": "execute_result"
    },
    {
     "data": {
      "image/png": "[encoded data removed]",
      "text/plain": [
       "<Figure size 640x480 with 1 Axes>"
      ]
     },
     "metadata": {},
     "output_type": "display_data"
    }
   ],
   "source": [
    "stats_dfp['tt_pval'].hist()\n",
    "plt.title(\"tt_pval\")"
   ]
  },
  {
   "cell_type": "code",
   "execution_count": null,
   "id": "80598f8b-ff6a-4a42-bfa2-7c3e05f0c738",
   "metadata": {},
   "outputs": [],
   "source": [
    "#bonferoni\n",
    "for i in range(len(tt_pvalues)):\n",
    "    tt_pvalues[i]=tt_pvalues[i]*126"
   ]
  },
  {
   "cell_type": "code",
   "execution_count": 248,
   "id": "0db4de6a-573b-4f6d-a142-3a7ad38ffcb4",
   "metadata": {},
   "outputs": [
    {
     "data": {
      "text/html": [
       "<div>\n",
       "<style scoped>\n",
       "    .dataframe tbody tr th:only-of-type {\n",
       "        vertical-align: middle;\n",
       "    }\n",
       "\n",
       "    .dataframe tbody tr th {\n",
       "        vertical-align: top;\n",
       "    }\n",
       "\n",
       "    .dataframe thead th {\n",
       "        text-align: right;\n",
       "    }\n",
       "</style>\n",
       "<table border=\"1\" class=\"dataframe\">\n",
       "  <thead>\n",
       "    <tr style=\"text-align: right;\">\n",
       "      <th></th>\n",
       "      <th>feature</th>\n",
       "      <th>train_loss</th>\n",
       "      <th>train_acc</th>\n",
       "      <th>test_loss</th>\n",
       "      <th>test_acc</th>\n",
       "    </tr>\n",
       "  </thead>\n",
       "  <tbody>\n",
       "    <tr>\n",
       "      <th>count</th>\n",
       "      <td>25200.000000</td>\n",
       "      <td>25200.000000</td>\n",
       "      <td>25200.000000</td>\n",
       "      <td>25200.000000</td>\n",
       "      <td>25200.000000</td>\n",
       "    </tr>\n",
       "    <tr>\n",
       "      <th>mean</th>\n",
       "      <td>62.500000</td>\n",
       "      <td>0.108414</td>\n",
       "      <td>0.543124</td>\n",
       "      <td>0.203574</td>\n",
       "      <td>0.506738</td>\n",
       "    </tr>\n",
       "    <tr>\n",
       "      <th>std</th>\n",
       "      <td>36.372643</td>\n",
       "      <td>0.091657</td>\n",
       "      <td>0.457495</td>\n",
       "      <td>0.172420</td>\n",
       "      <td>0.426959</td>\n",
       "    </tr>\n",
       "    <tr>\n",
       "      <th>min</th>\n",
       "      <td>0.000000</td>\n",
       "      <td>0.000000</td>\n",
       "      <td>0.000000</td>\n",
       "      <td>0.000000</td>\n",
       "      <td>0.000000</td>\n",
       "    </tr>\n",
       "    <tr>\n",
       "      <th>25%</th>\n",
       "      <td>31.000000</td>\n",
       "      <td>0.000000</td>\n",
       "      <td>0.000000</td>\n",
       "      <td>0.000000</td>\n",
       "      <td>0.000000</td>\n",
       "    </tr>\n",
       "    <tr>\n",
       "      <th>50%</th>\n",
       "      <td>62.500000</td>\n",
       "      <td>0.178375</td>\n",
       "      <td>0.930233</td>\n",
       "      <td>0.339115</td>\n",
       "      <td>0.868421</td>\n",
       "    </tr>\n",
       "    <tr>\n",
       "      <th>75%</th>\n",
       "      <td>94.000000</td>\n",
       "      <td>0.182906</td>\n",
       "      <td>0.930233</td>\n",
       "      <td>0.343253</td>\n",
       "      <td>0.868421</td>\n",
       "    </tr>\n",
       "    <tr>\n",
       "      <th>max</th>\n",
       "      <td>125.000000</td>\n",
       "      <td>0.288048</td>\n",
       "      <td>0.965116</td>\n",
       "      <td>0.624213</td>\n",
       "      <td>0.947368</td>\n",
       "    </tr>\n",
       "  </tbody>\n",
       "</table>\n",
       "</div>"
      ],
      "text/plain": [
       "            feature    train_loss     train_acc     test_loss      test_acc\n",
       "count  25200.000000  25200.000000  25200.000000  25200.000000  25200.000000\n",
       "mean      62.500000      0.108414      0.543124      0.203574      0.506738\n",
       "std       36.372643      0.091657      0.457495      0.172420      0.426959\n",
       "min        0.000000      0.000000      0.000000      0.000000      0.000000\n",
       "25%       31.000000      0.000000      0.000000      0.000000      0.000000\n",
       "50%       62.500000      0.178375      0.930233      0.339115      0.868421\n",
       "75%       94.000000      0.182906      0.930233      0.343253      0.868421\n",
       "max      125.000000      0.288048      0.965116      0.624213      0.947368"
      ]
     },
     "execution_count": 248,
     "metadata": {},
     "output_type": "execute_result"
    }
   ],
   "source": [
    "results_dfp.describe()"
   ]
  },
  {
   "cell_type": "code",
   "execution_count": 249,
   "id": "4794bbd6-df97-4164-968c-c6ca9227d4b3",
   "metadata": {},
   "outputs": [
    {
     "data": {
      "image/png": "[encoded data removed]",
      "text/plain": [
       "<Figure size 640x480 with 1 Axes>"
      ]
     },
     "metadata": {},
     "output_type": "display_data"
    },
    {
     "data": {
      "text/plain": [
       "Text(0.5, 1.0, 'Distribution of test loss for permutated data ')"
      ]
     },
     "execution_count": 249,
     "metadata": {},
     "output_type": "execute_result"
    },
    {
     "data": {
      "image/png": "[encoded data removed]",
      "text/plain": [
       "<Figure size 640x480 with 1 Axes>"
      ]
     },
     "metadata": {},
     "output_type": "display_data"
    }
   ],
   "source": [
    "results_dfp['test_acc'].hist()\n",
    "plt.title(\"Distribution of test accuracy for permutated data \")\n",
    "plt.show()\n",
    "results_dfp['test_loss'].hist()\n",
    "plt.title(\"Distribution of test loss for permutated data \")"
   ]
  },
  {
   "cell_type": "markdown",
   "id": "adae3b61-26dd-4379-8b38-4e8585c13796",
   "metadata": {
    "jp-MarkdownHeadingCollapsed": true
   },
   "source": [
    "### Zeroing"
   ]
  },
  {
   "cell_type": "code",
   "execution_count": null,
   "id": "bc961c02-b54e-44d9-8035-b9df38a51a77",
   "metadata": {},
   "outputs": [],
   "source": [
    "def permute_column(column):\n",
    "    return np.random.permutation(column)\n",
    "\n",
    "# Permute data in each column\n",
    "N = 3000\n",
    "\n",
    "\n",
    "\n",
    "feature = [0]*N\n",
    "train_loss = [0]*N\n",
    "train_acc = [0]*N\n",
    "test_loss = [0]*N\n",
    "test_acc = [0]*N\n",
    "for i in range(N):\n",
    "    print(f'{i/N*100}% procesing {i} out of {N}')\n",
    "    \n",
    "    dfp_train = pd.DataFrame(X_train2.copy())\n",
    "    dfp_test = pd.DataFrame(X_test2.copy())\n",
    "\n",
    "\n",
    "    \n",
    "    # Select a random column\n",
    "    random_column = np.random.choice(dfp_train.columns)\n",
    "    print(random_column)\n",
    "    # Permute the data in the selected column\n",
    "    #permuted_column_train = np.random.permutation(dfp_train[random_column])\n",
    "    #permuted_column_test = np.random.permutation(dfp_test[random_column])\n",
    "\n",
    "    # Update the DataFrame with the permuted column\n",
    "    dfp_train[random_column] = 0\n",
    "    dfp_test[random_column] = 0\n",
    "\n",
    "    ev_train = model2.evaluate(dfp_train, y_train2)\n",
    "    ev_test = model2.evaluate(dfp_test, y_test2)\n",
    "\n",
    "    feature[i]=str(random_column)\n",
    "    train_loss[i]=ev_train[0]\n",
    "    train_acc[i]=ev_train[1]\n",
    "    test_loss[i]=ev_test[0]\n",
    "    test_acc[i]=ev_test[1]\n",
    "\n",
    "    # new_row = pd.DataFrame({'feature': random_column,\n",
    "    # 'train_loss': ev_train[0],\n",
    "    # 'train_acc': ev_train[1],\n",
    "    # 'test_loss': ev_test[0],\n",
    "    # 'test_acc' : ev_test[1]})\n",
    "    \n",
    "    # results_df = pd.concat([results_df, new_row])\n",
    "    \n",
    "    "
   ]
  },
  {
   "cell_type": "code",
   "execution_count": null,
   "id": "b94ea843-2d44-45ca-bb4e-9cf0ff6bc19b",
   "metadata": {},
   "outputs": [],
   "source": [
    "results_df_zeros = pd.DataFrame({'feature':feature ,'train_loss':train_loss,'train_acc':train_acc ,'test_loss':test_loss ,'test_acc':test_acc })"
   ]
  },
  {
   "cell_type": "code",
   "execution_count": null,
   "id": "8197d486-c55f-41d2-b7a8-2c7751fa49b9",
   "metadata": {},
   "outputs": [],
   "source": [
    "#results_df_zeros.to_csv('results_df_zeros.csv', index=False)"
   ]
  },
  {
   "cell_type": "code",
   "execution_count": null,
   "id": "129b4e4f-a804-400b-a19e-31f93df926a5",
   "metadata": {},
   "outputs": [],
   "source": [
    "results_df_zeros['test_acc'].hist()\n",
    "plt.title(\"Distribution of test accuracy for zeroed data\")\n",
    "plt.show()\n",
    "results_df_zeros['test_loss'].hist()\n",
    "plt.title(\"Distribution of test loss for zeroed data\")"
   ]
  },
  {
   "cell_type": "code",
   "execution_count": null,
   "id": "e3fa8776-c343-4f33-be21-60dcb8700df8",
   "metadata": {
    "scrolled": true
   },
   "outputs": [],
   "source": [
    "results_df_zeros\n",
    "rdz = results_df_zeros.copy()\n",
    "features = results_df_zeros['feature'].unique()\n",
    "means_train_acc = []\n",
    "\n",
    "mean_df = rdz.groupby('feature').mean().reset_index()\n",
    "mean_df_p = results_df.groupby('feature').mean().reset_index()\n",
    "mean_df_p"
   ]
  },
  {
   "cell_type": "markdown",
   "id": "eb116e05-eae3-4339-9b5f-d6994efbfa64",
   "metadata": {},
   "source": [
    "### Random unif variables\n",
    "here instead of permuting or replacing with zeroes (as there is a lot of zeroes already we will fill random collumn with unif distributed numbers "
   ]
  },
  {
   "cell_type": "code",
   "execution_count": null,
   "id": "ab507255-6e98-4d72-bcb1-919b9a92bcd5",
   "metadata": {},
   "outputs": [],
   "source": [
    "# collumn permutation\n",
    "results_dfu = pd.DataFrame(columns=['feature', 'train_loss', 'train_acc', 'test_loss', 'test_acc'])\n",
    "\n",
    "N = 100\n",
    "\n",
    "\n",
    "\n",
    "feature = [0]*N\n",
    "train_loss = [0]*N\n",
    "train_acc = [0]*N\n",
    "test_loss = [0]*N\n",
    "test_acc = [0]*N\n",
    "for column in df_test.columns:\n",
    "    \n",
    "    for i in range(N):\n",
    "        \n",
    "        print(f\"processing {column}\")\n",
    "        print(f'{i/N*100}% procesing {i} out of {N}')\n",
    "    \n",
    "        dfu_train = df_train.copy()\n",
    "        dfu_test = df_test.copy()\n",
    "\n",
    "\n",
    "        \n",
    "        random_numbers_test = np.random.uniform(low=0, high=1, size=(dfu_test.shape[0], 1))\n",
    "        random_numbers_train = np.random.uniform(low=0, high=1, size=(dfu_train.shape[0], 1))\n",
    "        \n",
    "    # Update the DataFrame with the permuted column\n",
    "        dfu_train[column] = random_numbers_train\n",
    "        dfu_test[column] = random_numbers_test\n",
    "\n",
    "        ev_train = model2.evaluate(dfu_train, y_train2)\n",
    "        ev_test = model2.evaluate(dfu_test, y_test2)\n",
    "\n",
    "        feature[i]=str(column)\n",
    "        train_loss[i]=ev_train[0]\n",
    "        train_acc[i]=ev_train[1]\n",
    "        test_loss[i]=ev_test[0]\n",
    "        test_acc[i]=ev_test[1]\n",
    "        clear_output(wait=True)\n",
    "\n",
    "    col_df = pd.DataFrame({'feature':feature ,'train_loss':train_loss,'train_acc':train_acc ,'test_loss':test_loss ,'test_acc':test_acc })\n",
    "    \n",
    "    results_dfu = pd.concat([results_dfu, col_df],ignore_index = True)\n",
    "    "
   ]
  },
  {
   "cell_type": "code",
   "execution_count": 250,
   "id": "aa3ac53c-73d6-46ee-9ea1-1cd1c02d0938",
   "metadata": {},
   "outputs": [],
   "source": [
    "#results_dfu.to_csv('results_dfu_12500.csv', index=False)\n",
    "results_dfu = pd.read_csv('results_dfu_12500.csv')"
   ]
  },
  {
   "cell_type": "code",
   "execution_count": 251,
   "id": "6756fb92-a87a-486b-87d4-a7405262a049",
   "metadata": {},
   "outputs": [
    {
     "data": {
      "text/html": [
       "<div>\n",
       "<style scoped>\n",
       "    .dataframe tbody tr th:only-of-type {\n",
       "        vertical-align: middle;\n",
       "    }\n",
       "\n",
       "    .dataframe tbody tr th {\n",
       "        vertical-align: top;\n",
       "    }\n",
       "\n",
       "    .dataframe thead th {\n",
       "        text-align: right;\n",
       "    }\n",
       "</style>\n",
       "<table border=\"1\" class=\"dataframe\">\n",
       "  <thead>\n",
       "    <tr style=\"text-align: right;\">\n",
       "      <th></th>\n",
       "      <th>feature</th>\n",
       "      <th>train_loss</th>\n",
       "      <th>train_acc</th>\n",
       "      <th>test_loss</th>\n",
       "      <th>test_acc</th>\n",
       "    </tr>\n",
       "  </thead>\n",
       "  <tbody>\n",
       "    <tr>\n",
       "      <th>0</th>\n",
       "      <td>0</td>\n",
       "      <td>0.188859</td>\n",
       "      <td>0.918605</td>\n",
       "      <td>0.342868</td>\n",
       "      <td>0.868421</td>\n",
       "    </tr>\n",
       "    <tr>\n",
       "      <th>1</th>\n",
       "      <td>0</td>\n",
       "      <td>0.188644</td>\n",
       "      <td>0.918605</td>\n",
       "      <td>0.342582</td>\n",
       "      <td>0.868421</td>\n",
       "    </tr>\n",
       "    <tr>\n",
       "      <th>2</th>\n",
       "      <td>0</td>\n",
       "      <td>0.187844</td>\n",
       "      <td>0.930233</td>\n",
       "      <td>0.336108</td>\n",
       "      <td>0.868421</td>\n",
       "    </tr>\n",
       "    <tr>\n",
       "      <th>3</th>\n",
       "      <td>0</td>\n",
       "      <td>0.195839</td>\n",
       "      <td>0.918605</td>\n",
       "      <td>0.344920</td>\n",
       "      <td>0.842105</td>\n",
       "    </tr>\n",
       "    <tr>\n",
       "      <th>4</th>\n",
       "      <td>0</td>\n",
       "      <td>0.191240</td>\n",
       "      <td>0.930233</td>\n",
       "      <td>0.344718</td>\n",
       "      <td>0.868421</td>\n",
       "    </tr>\n",
       "    <tr>\n",
       "      <th>...</th>\n",
       "      <td>...</td>\n",
       "      <td>...</td>\n",
       "      <td>...</td>\n",
       "      <td>...</td>\n",
       "      <td>...</td>\n",
       "    </tr>\n",
       "    <tr>\n",
       "      <th>12595</th>\n",
       "      <td>125</td>\n",
       "      <td>0.268409</td>\n",
       "      <td>0.895349</td>\n",
       "      <td>0.410292</td>\n",
       "      <td>0.868421</td>\n",
       "    </tr>\n",
       "    <tr>\n",
       "      <th>12596</th>\n",
       "      <td>125</td>\n",
       "      <td>0.325587</td>\n",
       "      <td>0.848837</td>\n",
       "      <td>0.483891</td>\n",
       "      <td>0.789474</td>\n",
       "    </tr>\n",
       "    <tr>\n",
       "      <th>12597</th>\n",
       "      <td>125</td>\n",
       "      <td>0.285425</td>\n",
       "      <td>0.895349</td>\n",
       "      <td>0.469763</td>\n",
       "      <td>0.763158</td>\n",
       "    </tr>\n",
       "    <tr>\n",
       "      <th>12598</th>\n",
       "      <td>125</td>\n",
       "      <td>0.246670</td>\n",
       "      <td>0.895349</td>\n",
       "      <td>0.411156</td>\n",
       "      <td>0.815789</td>\n",
       "    </tr>\n",
       "    <tr>\n",
       "      <th>12599</th>\n",
       "      <td>125</td>\n",
       "      <td>0.288797</td>\n",
       "      <td>0.860465</td>\n",
       "      <td>0.468479</td>\n",
       "      <td>0.789474</td>\n",
       "    </tr>\n",
       "  </tbody>\n",
       "</table>\n",
       "<p>12600 rows × 5 columns</p>\n",
       "</div>"
      ],
      "text/plain": [
       "       feature  train_loss  train_acc  test_loss  test_acc\n",
       "0            0    0.188859   0.918605   0.342868  0.868421\n",
       "1            0    0.188644   0.918605   0.342582  0.868421\n",
       "2            0    0.187844   0.930233   0.336108  0.868421\n",
       "3            0    0.195839   0.918605   0.344920  0.842105\n",
       "4            0    0.191240   0.930233   0.344718  0.868421\n",
       "...        ...         ...        ...        ...       ...\n",
       "12595      125    0.268409   0.895349   0.410292  0.868421\n",
       "12596      125    0.325587   0.848837   0.483891  0.789474\n",
       "12597      125    0.285425   0.895349   0.469763  0.763158\n",
       "12598      125    0.246670   0.895349   0.411156  0.815789\n",
       "12599      125    0.288797   0.860465   0.468479  0.789474\n",
       "\n",
       "[12600 rows x 5 columns]"
      ]
     },
     "execution_count": 251,
     "metadata": {},
     "output_type": "execute_result"
    }
   ],
   "source": [
    "results_dfu"
   ]
  },
  {
   "cell_type": "code",
   "execution_count": 252,
   "id": "3534c742-266a-45eb-9117-ba066351de01",
   "metadata": {},
   "outputs": [
    {
     "data": {
      "text/plain": [
       "<Axes: >"
      ]
     },
     "execution_count": 252,
     "metadata": {},
     "output_type": "execute_result"
    },
    {
     "data": {
      "image/png": "[encoded data removed]",
      "text/plain": [
       "<Figure size 640x480 with 1 Axes>"
      ]
     },
     "metadata": {},
     "output_type": "display_data"
    }
   ],
   "source": [
    "\n",
    "\n",
    "#features = results_df_zeros['feature'].unique()\n",
    "\n",
    "mean_dfu = results_dfu.groupby('feature').mean().reset_index()\n",
    "mean_dfu['test_acc'].plot()"
   ]
  },
  {
   "cell_type": "code",
   "execution_count": 255,
   "id": "0182c2ad-dd4e-468d-a5fe-8d0c6eb68dea",
   "metadata": {},
   "outputs": [
    {
     "name": "stderr",
     "output_type": "stream",
     "text": [
      "C:\\Users\\marek\\AppData\\Local\\Temp\\ipykernel_30188\\3333693127.py:20: FutureWarning: The behavior of DataFrame concatenation with empty or all-NA entries is deprecated. In a future version, this will no longer exclude empty or all-NA columns when determining the result dtypes. To retain the old behavior, exclude the relevant entries before the concat operation.\n",
      "  stats_dfu = pd.concat([stats_dfu, col_df],ignore_index = True)\n",
      "C:\\Users\\marek\\AppData\\Local\\Temp\\ipykernel_30188\\3333693127.py:20: FutureWarning: The behavior of DataFrame concatenation with empty or all-NA entries is deprecated. In a future version, this will no longer exclude empty or all-NA columns when determining the result dtypes. To retain the old behavior, exclude the relevant entries before the concat operation.\n",
      "  stats_dfu = pd.concat([stats_dfu, col_df],ignore_index = True)\n",
      "C:\\Users\\marek\\AppData\\Local\\Temp\\ipykernel_30188\\3333693127.py:20: FutureWarning: The behavior of DataFrame concatenation with empty or all-NA entries is deprecated. In a future version, this will no longer exclude empty or all-NA columns when determining the result dtypes. To retain the old behavior, exclude the relevant entries before the concat operation.\n",
      "  stats_dfu = pd.concat([stats_dfu, col_df],ignore_index = True)\n",
      "C:\\Users\\marek\\AppData\\Local\\Temp\\ipykernel_30188\\3333693127.py:20: FutureWarning: The behavior of DataFrame concatenation with empty or all-NA entries is deprecated. In a future version, this will no longer exclude empty or all-NA columns when determining the result dtypes. To retain the old behavior, exclude the relevant entries before the concat operation.\n",
      "  stats_dfu = pd.concat([stats_dfu, col_df],ignore_index = True)\n",
      "C:\\Users\\marek\\AppData\\Local\\Temp\\ipykernel_30188\\3333693127.py:20: FutureWarning: The behavior of DataFrame concatenation with empty or all-NA entries is deprecated. In a future version, this will no longer exclude empty or all-NA columns when determining the result dtypes. To retain the old behavior, exclude the relevant entries before the concat operation.\n",
      "  stats_dfu = pd.concat([stats_dfu, col_df],ignore_index = True)\n",
      "C:\\Users\\marek\\AppData\\Local\\Temp\\ipykernel_30188\\3333693127.py:20: FutureWarning: The behavior of DataFrame concatenation with empty or all-NA entries is deprecated. In a future version, this will no longer exclude empty or all-NA columns when determining the result dtypes. To retain the old behavior, exclude the relevant entries before the concat operation.\n",
      "  stats_dfu = pd.concat([stats_dfu, col_df],ignore_index = True)\n",
      "C:\\Users\\marek\\AppData\\Local\\Temp\\ipykernel_30188\\3333693127.py:20: FutureWarning: The behavior of DataFrame concatenation with empty or all-NA entries is deprecated. In a future version, this will no longer exclude empty or all-NA columns when determining the result dtypes. To retain the old behavior, exclude the relevant entries before the concat operation.\n",
      "  stats_dfu = pd.concat([stats_dfu, col_df],ignore_index = True)\n",
      "C:\\Users\\marek\\AppData\\Local\\Temp\\ipykernel_30188\\3333693127.py:20: FutureWarning: The behavior of DataFrame concatenation with empty or all-NA entries is deprecated. In a future version, this will no longer exclude empty or all-NA columns when determining the result dtypes. To retain the old behavior, exclude the relevant entries before the concat operation.\n",
      "  stats_dfu = pd.concat([stats_dfu, col_df],ignore_index = True)\n",
      "C:\\Users\\marek\\AppData\\Local\\Temp\\ipykernel_30188\\3333693127.py:20: FutureWarning: The behavior of DataFrame concatenation with empty or all-NA entries is deprecated. In a future version, this will no longer exclude empty or all-NA columns when determining the result dtypes. To retain the old behavior, exclude the relevant entries before the concat operation.\n",
      "  stats_dfu = pd.concat([stats_dfu, col_df],ignore_index = True)\n",
      "C:\\Users\\marek\\AppData\\Local\\Temp\\ipykernel_30188\\3333693127.py:20: FutureWarning: The behavior of DataFrame concatenation with empty or all-NA entries is deprecated. In a future version, this will no longer exclude empty or all-NA columns when determining the result dtypes. To retain the old behavior, exclude the relevant entries before the concat operation.\n",
      "  stats_dfu = pd.concat([stats_dfu, col_df],ignore_index = True)\n",
      "C:\\Users\\marek\\AppData\\Local\\Temp\\ipykernel_30188\\3333693127.py:20: FutureWarning: The behavior of DataFrame concatenation with empty or all-NA entries is deprecated. In a future version, this will no longer exclude empty or all-NA columns when determining the result dtypes. To retain the old behavior, exclude the relevant entries before the concat operation.\n",
      "  stats_dfu = pd.concat([stats_dfu, col_df],ignore_index = True)\n",
      "C:\\Users\\marek\\AppData\\Local\\Temp\\ipykernel_30188\\3333693127.py:20: FutureWarning: The behavior of DataFrame concatenation with empty or all-NA entries is deprecated. In a future version, this will no longer exclude empty or all-NA columns when determining the result dtypes. To retain the old behavior, exclude the relevant entries before the concat operation.\n",
      "  stats_dfu = pd.concat([stats_dfu, col_df],ignore_index = True)\n",
      "C:\\Users\\marek\\AppData\\Local\\Temp\\ipykernel_30188\\3333693127.py:20: FutureWarning: The behavior of DataFrame concatenation with empty or all-NA entries is deprecated. In a future version, this will no longer exclude empty or all-NA columns when determining the result dtypes. To retain the old behavior, exclude the relevant entries before the concat operation.\n",
      "  stats_dfu = pd.concat([stats_dfu, col_df],ignore_index = True)\n",
      "C:\\Users\\marek\\AppData\\Local\\Temp\\ipykernel_30188\\3333693127.py:20: FutureWarning: The behavior of DataFrame concatenation with empty or all-NA entries is deprecated. In a future version, this will no longer exclude empty or all-NA columns when determining the result dtypes. To retain the old behavior, exclude the relevant entries before the concat operation.\n",
      "  stats_dfu = pd.concat([stats_dfu, col_df],ignore_index = True)\n",
      "C:\\Users\\marek\\AppData\\Local\\Temp\\ipykernel_30188\\3333693127.py:20: FutureWarning: The behavior of DataFrame concatenation with empty or all-NA entries is deprecated. In a future version, this will no longer exclude empty or all-NA columns when determining the result dtypes. To retain the old behavior, exclude the relevant entries before the concat operation.\n",
      "  stats_dfu = pd.concat([stats_dfu, col_df],ignore_index = True)\n",
      "C:\\Users\\marek\\AppData\\Local\\Temp\\ipykernel_30188\\3333693127.py:20: FutureWarning: The behavior of DataFrame concatenation with empty or all-NA entries is deprecated. In a future version, this will no longer exclude empty or all-NA columns when determining the result dtypes. To retain the old behavior, exclude the relevant entries before the concat operation.\n",
      "  stats_dfu = pd.concat([stats_dfu, col_df],ignore_index = True)\n",
      "C:\\Users\\marek\\AppData\\Local\\Temp\\ipykernel_30188\\3333693127.py:20: FutureWarning: The behavior of DataFrame concatenation with empty or all-NA entries is deprecated. In a future version, this will no longer exclude empty or all-NA columns when determining the result dtypes. To retain the old behavior, exclude the relevant entries before the concat operation.\n",
      "  stats_dfu = pd.concat([stats_dfu, col_df],ignore_index = True)\n",
      "C:\\Users\\marek\\AppData\\Local\\Temp\\ipykernel_30188\\3333693127.py:20: FutureWarning: The behavior of DataFrame concatenation with empty or all-NA entries is deprecated. In a future version, this will no longer exclude empty or all-NA columns when determining the result dtypes. To retain the old behavior, exclude the relevant entries before the concat operation.\n",
      "  stats_dfu = pd.concat([stats_dfu, col_df],ignore_index = True)\n",
      "C:\\Users\\marek\\AppData\\Local\\Temp\\ipykernel_30188\\3333693127.py:20: FutureWarning: The behavior of DataFrame concatenation with empty or all-NA entries is deprecated. In a future version, this will no longer exclude empty or all-NA columns when determining the result dtypes. To retain the old behavior, exclude the relevant entries before the concat operation.\n",
      "  stats_dfu = pd.concat([stats_dfu, col_df],ignore_index = True)\n",
      "C:\\Users\\marek\\AppData\\Local\\Temp\\ipykernel_30188\\3333693127.py:20: FutureWarning: The behavior of DataFrame concatenation with empty or all-NA entries is deprecated. In a future version, this will no longer exclude empty or all-NA columns when determining the result dtypes. To retain the old behavior, exclude the relevant entries before the concat operation.\n",
      "  stats_dfu = pd.concat([stats_dfu, col_df],ignore_index = True)\n",
      "C:\\Users\\marek\\AppData\\Local\\Temp\\ipykernel_30188\\3333693127.py:20: FutureWarning: The behavior of DataFrame concatenation with empty or all-NA entries is deprecated. In a future version, this will no longer exclude empty or all-NA columns when determining the result dtypes. To retain the old behavior, exclude the relevant entries before the concat operation.\n",
      "  stats_dfu = pd.concat([stats_dfu, col_df],ignore_index = True)\n",
      "C:\\Users\\marek\\AppData\\Local\\Temp\\ipykernel_30188\\3333693127.py:20: FutureWarning: The behavior of DataFrame concatenation with empty or all-NA entries is deprecated. In a future version, this will no longer exclude empty or all-NA columns when determining the result dtypes. To retain the old behavior, exclude the relevant entries before the concat operation.\n",
      "  stats_dfu = pd.concat([stats_dfu, col_df],ignore_index = True)\n",
      "C:\\Users\\marek\\AppData\\Local\\Temp\\ipykernel_30188\\3333693127.py:20: FutureWarning: The behavior of DataFrame concatenation with empty or all-NA entries is deprecated. In a future version, this will no longer exclude empty or all-NA columns when determining the result dtypes. To retain the old behavior, exclude the relevant entries before the concat operation.\n",
      "  stats_dfu = pd.concat([stats_dfu, col_df],ignore_index = True)\n",
      "C:\\Users\\marek\\AppData\\Local\\Temp\\ipykernel_30188\\3333693127.py:20: FutureWarning: The behavior of DataFrame concatenation with empty or all-NA entries is deprecated. In a future version, this will no longer exclude empty or all-NA columns when determining the result dtypes. To retain the old behavior, exclude the relevant entries before the concat operation.\n",
      "  stats_dfu = pd.concat([stats_dfu, col_df],ignore_index = True)\n",
      "C:\\Users\\marek\\AppData\\Local\\Temp\\ipykernel_30188\\3333693127.py:20: FutureWarning: The behavior of DataFrame concatenation with empty or all-NA entries is deprecated. In a future version, this will no longer exclude empty or all-NA columns when determining the result dtypes. To retain the old behavior, exclude the relevant entries before the concat operation.\n",
      "  stats_dfu = pd.concat([stats_dfu, col_df],ignore_index = True)\n",
      "C:\\Users\\marek\\AppData\\Local\\Temp\\ipykernel_30188\\3333693127.py:20: FutureWarning: The behavior of DataFrame concatenation with empty or all-NA entries is deprecated. In a future version, this will no longer exclude empty or all-NA columns when determining the result dtypes. To retain the old behavior, exclude the relevant entries before the concat operation.\n",
      "  stats_dfu = pd.concat([stats_dfu, col_df],ignore_index = True)\n",
      "C:\\Users\\marek\\AppData\\Local\\Temp\\ipykernel_30188\\3333693127.py:20: FutureWarning: The behavior of DataFrame concatenation with empty or all-NA entries is deprecated. In a future version, this will no longer exclude empty or all-NA columns when determining the result dtypes. To retain the old behavior, exclude the relevant entries before the concat operation.\n",
      "  stats_dfu = pd.concat([stats_dfu, col_df],ignore_index = True)\n",
      "C:\\Users\\marek\\AppData\\Local\\Temp\\ipykernel_30188\\3333693127.py:20: FutureWarning: The behavior of DataFrame concatenation with empty or all-NA entries is deprecated. In a future version, this will no longer exclude empty or all-NA columns when determining the result dtypes. To retain the old behavior, exclude the relevant entries before the concat operation.\n",
      "  stats_dfu = pd.concat([stats_dfu, col_df],ignore_index = True)\n",
      "C:\\Users\\marek\\AppData\\Local\\Temp\\ipykernel_30188\\3333693127.py:20: FutureWarning: The behavior of DataFrame concatenation with empty or all-NA entries is deprecated. In a future version, this will no longer exclude empty or all-NA columns when determining the result dtypes. To retain the old behavior, exclude the relevant entries before the concat operation.\n",
      "  stats_dfu = pd.concat([stats_dfu, col_df],ignore_index = True)\n",
      "C:\\Users\\marek\\AppData\\Local\\Temp\\ipykernel_30188\\3333693127.py:20: FutureWarning: The behavior of DataFrame concatenation with empty or all-NA entries is deprecated. In a future version, this will no longer exclude empty or all-NA columns when determining the result dtypes. To retain the old behavior, exclude the relevant entries before the concat operation.\n",
      "  stats_dfu = pd.concat([stats_dfu, col_df],ignore_index = True)\n",
      "C:\\Users\\marek\\AppData\\Local\\Temp\\ipykernel_30188\\3333693127.py:20: FutureWarning: The behavior of DataFrame concatenation with empty or all-NA entries is deprecated. In a future version, this will no longer exclude empty or all-NA columns when determining the result dtypes. To retain the old behavior, exclude the relevant entries before the concat operation.\n",
      "  stats_dfu = pd.concat([stats_dfu, col_df],ignore_index = True)\n",
      "C:\\Users\\marek\\AppData\\Local\\Temp\\ipykernel_30188\\3333693127.py:20: FutureWarning: The behavior of DataFrame concatenation with empty or all-NA entries is deprecated. In a future version, this will no longer exclude empty or all-NA columns when determining the result dtypes. To retain the old behavior, exclude the relevant entries before the concat operation.\n",
      "  stats_dfu = pd.concat([stats_dfu, col_df],ignore_index = True)\n",
      "C:\\Users\\marek\\AppData\\Local\\Temp\\ipykernel_30188\\3333693127.py:20: FutureWarning: The behavior of DataFrame concatenation with empty or all-NA entries is deprecated. In a future version, this will no longer exclude empty or all-NA columns when determining the result dtypes. To retain the old behavior, exclude the relevant entries before the concat operation.\n",
      "  stats_dfu = pd.concat([stats_dfu, col_df],ignore_index = True)\n",
      "C:\\Users\\marek\\AppData\\Local\\Temp\\ipykernel_30188\\3333693127.py:20: FutureWarning: The behavior of DataFrame concatenation with empty or all-NA entries is deprecated. In a future version, this will no longer exclude empty or all-NA columns when determining the result dtypes. To retain the old behavior, exclude the relevant entries before the concat operation.\n",
      "  stats_dfu = pd.concat([stats_dfu, col_df],ignore_index = True)\n",
      "C:\\Users\\marek\\AppData\\Local\\Temp\\ipykernel_30188\\3333693127.py:20: FutureWarning: The behavior of DataFrame concatenation with empty or all-NA entries is deprecated. In a future version, this will no longer exclude empty or all-NA columns when determining the result dtypes. To retain the old behavior, exclude the relevant entries before the concat operation.\n",
      "  stats_dfu = pd.concat([stats_dfu, col_df],ignore_index = True)\n",
      "C:\\Users\\marek\\AppData\\Local\\Temp\\ipykernel_30188\\3333693127.py:20: FutureWarning: The behavior of DataFrame concatenation with empty or all-NA entries is deprecated. In a future version, this will no longer exclude empty or all-NA columns when determining the result dtypes. To retain the old behavior, exclude the relevant entries before the concat operation.\n",
      "  stats_dfu = pd.concat([stats_dfu, col_df],ignore_index = True)\n",
      "C:\\Users\\marek\\AppData\\Local\\Temp\\ipykernel_30188\\3333693127.py:20: FutureWarning: The behavior of DataFrame concatenation with empty or all-NA entries is deprecated. In a future version, this will no longer exclude empty or all-NA columns when determining the result dtypes. To retain the old behavior, exclude the relevant entries before the concat operation.\n",
      "  stats_dfu = pd.concat([stats_dfu, col_df],ignore_index = True)\n",
      "C:\\Users\\marek\\AppData\\Local\\Temp\\ipykernel_30188\\3333693127.py:20: FutureWarning: The behavior of DataFrame concatenation with empty or all-NA entries is deprecated. In a future version, this will no longer exclude empty or all-NA columns when determining the result dtypes. To retain the old behavior, exclude the relevant entries before the concat operation.\n",
      "  stats_dfu = pd.concat([stats_dfu, col_df],ignore_index = True)\n",
      "C:\\Users\\marek\\AppData\\Local\\Temp\\ipykernel_30188\\3333693127.py:20: FutureWarning: The behavior of DataFrame concatenation with empty or all-NA entries is deprecated. In a future version, this will no longer exclude empty or all-NA columns when determining the result dtypes. To retain the old behavior, exclude the relevant entries before the concat operation.\n",
      "  stats_dfu = pd.concat([stats_dfu, col_df],ignore_index = True)\n",
      "C:\\Users\\marek\\AppData\\Local\\Temp\\ipykernel_30188\\3333693127.py:20: FutureWarning: The behavior of DataFrame concatenation with empty or all-NA entries is deprecated. In a future version, this will no longer exclude empty or all-NA columns when determining the result dtypes. To retain the old behavior, exclude the relevant entries before the concat operation.\n",
      "  stats_dfu = pd.concat([stats_dfu, col_df],ignore_index = True)\n",
      "C:\\Users\\marek\\AppData\\Local\\Temp\\ipykernel_30188\\3333693127.py:20: FutureWarning: The behavior of DataFrame concatenation with empty or all-NA entries is deprecated. In a future version, this will no longer exclude empty or all-NA columns when determining the result dtypes. To retain the old behavior, exclude the relevant entries before the concat operation.\n",
      "  stats_dfu = pd.concat([stats_dfu, col_df],ignore_index = True)\n",
      "C:\\Users\\marek\\AppData\\Local\\Temp\\ipykernel_30188\\3333693127.py:20: FutureWarning: The behavior of DataFrame concatenation with empty or all-NA entries is deprecated. In a future version, this will no longer exclude empty or all-NA columns when determining the result dtypes. To retain the old behavior, exclude the relevant entries before the concat operation.\n",
      "  stats_dfu = pd.concat([stats_dfu, col_df],ignore_index = True)\n",
      "C:\\Users\\marek\\AppData\\Local\\Packages\\PythonSoftwareFoundation.Python.3.11_qbz5n2kfra8p0\\LocalCache\\local-packages\\Python311\\site-packages\\scipy\\stats\\_morestats.py:1879: UserWarning: Input data for shapiro has range zero. The results may not be accurate.\n",
      "  warnings.warn(\"Input data for shapiro has range zero. The results \"\n",
      "C:\\Users\\marek\\AppData\\Local\\Packages\\PythonSoftwareFoundation.Python.3.11_qbz5n2kfra8p0\\LocalCache\\local-packages\\Python311\\site-packages\\scipy\\stats\\_axis_nan_policy.py:523: RuntimeWarning: Precision loss occurred in moment calculation due to catastrophic cancellation. This occurs when the data are nearly identical. Results may be unreliable.\n",
      "  res = hypotest_fun_out(*samples, **kwds)\n",
      "C:\\Users\\marek\\AppData\\Local\\Temp\\ipykernel_30188\\3333693127.py:20: FutureWarning: The behavior of DataFrame concatenation with empty or all-NA entries is deprecated. In a future version, this will no longer exclude empty or all-NA columns when determining the result dtypes. To retain the old behavior, exclude the relevant entries before the concat operation.\n",
      "  stats_dfu = pd.concat([stats_dfu, col_df],ignore_index = True)\n",
      "C:\\Users\\marek\\AppData\\Local\\Temp\\ipykernel_30188\\3333693127.py:20: FutureWarning: The behavior of DataFrame concatenation with empty or all-NA entries is deprecated. In a future version, this will no longer exclude empty or all-NA columns when determining the result dtypes. To retain the old behavior, exclude the relevant entries before the concat operation.\n",
      "  stats_dfu = pd.concat([stats_dfu, col_df],ignore_index = True)\n",
      "C:\\Users\\marek\\AppData\\Local\\Temp\\ipykernel_30188\\3333693127.py:20: FutureWarning: The behavior of DataFrame concatenation with empty or all-NA entries is deprecated. In a future version, this will no longer exclude empty or all-NA columns when determining the result dtypes. To retain the old behavior, exclude the relevant entries before the concat operation.\n",
      "  stats_dfu = pd.concat([stats_dfu, col_df],ignore_index = True)\n",
      "C:\\Users\\marek\\AppData\\Local\\Temp\\ipykernel_30188\\3333693127.py:20: FutureWarning: The behavior of DataFrame concatenation with empty or all-NA entries is deprecated. In a future version, this will no longer exclude empty or all-NA columns when determining the result dtypes. To retain the old behavior, exclude the relevant entries before the concat operation.\n",
      "  stats_dfu = pd.concat([stats_dfu, col_df],ignore_index = True)\n",
      "C:\\Users\\marek\\AppData\\Local\\Temp\\ipykernel_30188\\3333693127.py:20: FutureWarning: The behavior of DataFrame concatenation with empty or all-NA entries is deprecated. In a future version, this will no longer exclude empty or all-NA columns when determining the result dtypes. To retain the old behavior, exclude the relevant entries before the concat operation.\n",
      "  stats_dfu = pd.concat([stats_dfu, col_df],ignore_index = True)\n",
      "C:\\Users\\marek\\AppData\\Local\\Temp\\ipykernel_30188\\3333693127.py:20: FutureWarning: The behavior of DataFrame concatenation with empty or all-NA entries is deprecated. In a future version, this will no longer exclude empty or all-NA columns when determining the result dtypes. To retain the old behavior, exclude the relevant entries before the concat operation.\n",
      "  stats_dfu = pd.concat([stats_dfu, col_df],ignore_index = True)\n",
      "C:\\Users\\marek\\AppData\\Local\\Temp\\ipykernel_30188\\3333693127.py:20: FutureWarning: The behavior of DataFrame concatenation with empty or all-NA entries is deprecated. In a future version, this will no longer exclude empty or all-NA columns when determining the result dtypes. To retain the old behavior, exclude the relevant entries before the concat operation.\n",
      "  stats_dfu = pd.concat([stats_dfu, col_df],ignore_index = True)\n",
      "C:\\Users\\marek\\AppData\\Local\\Temp\\ipykernel_30188\\3333693127.py:20: FutureWarning: The behavior of DataFrame concatenation with empty or all-NA entries is deprecated. In a future version, this will no longer exclude empty or all-NA columns when determining the result dtypes. To retain the old behavior, exclude the relevant entries before the concat operation.\n",
      "  stats_dfu = pd.concat([stats_dfu, col_df],ignore_index = True)\n",
      "C:\\Users\\marek\\AppData\\Local\\Temp\\ipykernel_30188\\3333693127.py:20: FutureWarning: The behavior of DataFrame concatenation with empty or all-NA entries is deprecated. In a future version, this will no longer exclude empty or all-NA columns when determining the result dtypes. To retain the old behavior, exclude the relevant entries before the concat operation.\n",
      "  stats_dfu = pd.concat([stats_dfu, col_df],ignore_index = True)\n",
      "C:\\Users\\marek\\AppData\\Local\\Temp\\ipykernel_30188\\3333693127.py:20: FutureWarning: The behavior of DataFrame concatenation with empty or all-NA entries is deprecated. In a future version, this will no longer exclude empty or all-NA columns when determining the result dtypes. To retain the old behavior, exclude the relevant entries before the concat operation.\n",
      "  stats_dfu = pd.concat([stats_dfu, col_df],ignore_index = True)\n",
      "C:\\Users\\marek\\AppData\\Local\\Temp\\ipykernel_30188\\3333693127.py:20: FutureWarning: The behavior of DataFrame concatenation with empty or all-NA entries is deprecated. In a future version, this will no longer exclude empty or all-NA columns when determining the result dtypes. To retain the old behavior, exclude the relevant entries before the concat operation.\n",
      "  stats_dfu = pd.concat([stats_dfu, col_df],ignore_index = True)\n",
      "C:\\Users\\marek\\AppData\\Local\\Temp\\ipykernel_30188\\3333693127.py:20: FutureWarning: The behavior of DataFrame concatenation with empty or all-NA entries is deprecated. In a future version, this will no longer exclude empty or all-NA columns when determining the result dtypes. To retain the old behavior, exclude the relevant entries before the concat operation.\n",
      "  stats_dfu = pd.concat([stats_dfu, col_df],ignore_index = True)\n",
      "C:\\Users\\marek\\AppData\\Local\\Temp\\ipykernel_30188\\3333693127.py:20: FutureWarning: The behavior of DataFrame concatenation with empty or all-NA entries is deprecated. In a future version, this will no longer exclude empty or all-NA columns when determining the result dtypes. To retain the old behavior, exclude the relevant entries before the concat operation.\n",
      "  stats_dfu = pd.concat([stats_dfu, col_df],ignore_index = True)\n",
      "C:\\Users\\marek\\AppData\\Local\\Temp\\ipykernel_30188\\3333693127.py:20: FutureWarning: The behavior of DataFrame concatenation with empty or all-NA entries is deprecated. In a future version, this will no longer exclude empty or all-NA columns when determining the result dtypes. To retain the old behavior, exclude the relevant entries before the concat operation.\n",
      "  stats_dfu = pd.concat([stats_dfu, col_df],ignore_index = True)\n",
      "C:\\Users\\marek\\AppData\\Local\\Temp\\ipykernel_30188\\3333693127.py:20: FutureWarning: The behavior of DataFrame concatenation with empty or all-NA entries is deprecated. In a future version, this will no longer exclude empty or all-NA columns when determining the result dtypes. To retain the old behavior, exclude the relevant entries before the concat operation.\n",
      "  stats_dfu = pd.concat([stats_dfu, col_df],ignore_index = True)\n",
      "C:\\Users\\marek\\AppData\\Local\\Temp\\ipykernel_30188\\3333693127.py:20: FutureWarning: The behavior of DataFrame concatenation with empty or all-NA entries is deprecated. In a future version, this will no longer exclude empty or all-NA columns when determining the result dtypes. To retain the old behavior, exclude the relevant entries before the concat operation.\n",
      "  stats_dfu = pd.concat([stats_dfu, col_df],ignore_index = True)\n",
      "C:\\Users\\marek\\AppData\\Local\\Temp\\ipykernel_30188\\3333693127.py:20: FutureWarning: The behavior of DataFrame concatenation with empty or all-NA entries is deprecated. In a future version, this will no longer exclude empty or all-NA columns when determining the result dtypes. To retain the old behavior, exclude the relevant entries before the concat operation.\n",
      "  stats_dfu = pd.concat([stats_dfu, col_df],ignore_index = True)\n",
      "C:\\Users\\marek\\AppData\\Local\\Temp\\ipykernel_30188\\3333693127.py:20: FutureWarning: The behavior of DataFrame concatenation with empty or all-NA entries is deprecated. In a future version, this will no longer exclude empty or all-NA columns when determining the result dtypes. To retain the old behavior, exclude the relevant entries before the concat operation.\n",
      "  stats_dfu = pd.concat([stats_dfu, col_df],ignore_index = True)\n",
      "C:\\Users\\marek\\AppData\\Local\\Temp\\ipykernel_30188\\3333693127.py:20: FutureWarning: The behavior of DataFrame concatenation with empty or all-NA entries is deprecated. In a future version, this will no longer exclude empty or all-NA columns when determining the result dtypes. To retain the old behavior, exclude the relevant entries before the concat operation.\n",
      "  stats_dfu = pd.concat([stats_dfu, col_df],ignore_index = True)\n",
      "C:\\Users\\marek\\AppData\\Local\\Temp\\ipykernel_30188\\3333693127.py:20: FutureWarning: The behavior of DataFrame concatenation with empty or all-NA entries is deprecated. In a future version, this will no longer exclude empty or all-NA columns when determining the result dtypes. To retain the old behavior, exclude the relevant entries before the concat operation.\n",
      "  stats_dfu = pd.concat([stats_dfu, col_df],ignore_index = True)\n",
      "C:\\Users\\marek\\AppData\\Local\\Temp\\ipykernel_30188\\3333693127.py:20: FutureWarning: The behavior of DataFrame concatenation with empty or all-NA entries is deprecated. In a future version, this will no longer exclude empty or all-NA columns when determining the result dtypes. To retain the old behavior, exclude the relevant entries before the concat operation.\n",
      "  stats_dfu = pd.concat([stats_dfu, col_df],ignore_index = True)\n",
      "C:\\Users\\marek\\AppData\\Local\\Temp\\ipykernel_30188\\3333693127.py:20: FutureWarning: The behavior of DataFrame concatenation with empty or all-NA entries is deprecated. In a future version, this will no longer exclude empty or all-NA columns when determining the result dtypes. To retain the old behavior, exclude the relevant entries before the concat operation.\n",
      "  stats_dfu = pd.concat([stats_dfu, col_df],ignore_index = True)\n",
      "C:\\Users\\marek\\AppData\\Local\\Temp\\ipykernel_30188\\3333693127.py:20: FutureWarning: The behavior of DataFrame concatenation with empty or all-NA entries is deprecated. In a future version, this will no longer exclude empty or all-NA columns when determining the result dtypes. To retain the old behavior, exclude the relevant entries before the concat operation.\n",
      "  stats_dfu = pd.concat([stats_dfu, col_df],ignore_index = True)\n",
      "C:\\Users\\marek\\AppData\\Local\\Temp\\ipykernel_30188\\3333693127.py:20: FutureWarning: The behavior of DataFrame concatenation with empty or all-NA entries is deprecated. In a future version, this will no longer exclude empty or all-NA columns when determining the result dtypes. To retain the old behavior, exclude the relevant entries before the concat operation.\n",
      "  stats_dfu = pd.concat([stats_dfu, col_df],ignore_index = True)\n",
      "C:\\Users\\marek\\AppData\\Local\\Temp\\ipykernel_30188\\3333693127.py:20: FutureWarning: The behavior of DataFrame concatenation with empty or all-NA entries is deprecated. In a future version, this will no longer exclude empty or all-NA columns when determining the result dtypes. To retain the old behavior, exclude the relevant entries before the concat operation.\n",
      "  stats_dfu = pd.concat([stats_dfu, col_df],ignore_index = True)\n",
      "C:\\Users\\marek\\AppData\\Local\\Temp\\ipykernel_30188\\3333693127.py:20: FutureWarning: The behavior of DataFrame concatenation with empty or all-NA entries is deprecated. In a future version, this will no longer exclude empty or all-NA columns when determining the result dtypes. To retain the old behavior, exclude the relevant entries before the concat operation.\n",
      "  stats_dfu = pd.concat([stats_dfu, col_df],ignore_index = True)\n",
      "C:\\Users\\marek\\AppData\\Local\\Temp\\ipykernel_30188\\3333693127.py:20: FutureWarning: The behavior of DataFrame concatenation with empty or all-NA entries is deprecated. In a future version, this will no longer exclude empty or all-NA columns when determining the result dtypes. To retain the old behavior, exclude the relevant entries before the concat operation.\n",
      "  stats_dfu = pd.concat([stats_dfu, col_df],ignore_index = True)\n",
      "C:\\Users\\marek\\AppData\\Local\\Temp\\ipykernel_30188\\3333693127.py:20: FutureWarning: The behavior of DataFrame concatenation with empty or all-NA entries is deprecated. In a future version, this will no longer exclude empty or all-NA columns when determining the result dtypes. To retain the old behavior, exclude the relevant entries before the concat operation.\n",
      "  stats_dfu = pd.concat([stats_dfu, col_df],ignore_index = True)\n",
      "C:\\Users\\marek\\AppData\\Local\\Temp\\ipykernel_30188\\3333693127.py:20: FutureWarning: The behavior of DataFrame concatenation with empty or all-NA entries is deprecated. In a future version, this will no longer exclude empty or all-NA columns when determining the result dtypes. To retain the old behavior, exclude the relevant entries before the concat operation.\n",
      "  stats_dfu = pd.concat([stats_dfu, col_df],ignore_index = True)\n",
      "C:\\Users\\marek\\AppData\\Local\\Temp\\ipykernel_30188\\3333693127.py:20: FutureWarning: The behavior of DataFrame concatenation with empty or all-NA entries is deprecated. In a future version, this will no longer exclude empty or all-NA columns when determining the result dtypes. To retain the old behavior, exclude the relevant entries before the concat operation.\n",
      "  stats_dfu = pd.concat([stats_dfu, col_df],ignore_index = True)\n",
      "C:\\Users\\marek\\AppData\\Local\\Temp\\ipykernel_30188\\3333693127.py:20: FutureWarning: The behavior of DataFrame concatenation with empty or all-NA entries is deprecated. In a future version, this will no longer exclude empty or all-NA columns when determining the result dtypes. To retain the old behavior, exclude the relevant entries before the concat operation.\n",
      "  stats_dfu = pd.concat([stats_dfu, col_df],ignore_index = True)\n",
      "C:\\Users\\marek\\AppData\\Local\\Temp\\ipykernel_30188\\3333693127.py:20: FutureWarning: The behavior of DataFrame concatenation with empty or all-NA entries is deprecated. In a future version, this will no longer exclude empty or all-NA columns when determining the result dtypes. To retain the old behavior, exclude the relevant entries before the concat operation.\n",
      "  stats_dfu = pd.concat([stats_dfu, col_df],ignore_index = True)\n",
      "C:\\Users\\marek\\AppData\\Local\\Temp\\ipykernel_30188\\3333693127.py:20: FutureWarning: The behavior of DataFrame concatenation with empty or all-NA entries is deprecated. In a future version, this will no longer exclude empty or all-NA columns when determining the result dtypes. To retain the old behavior, exclude the relevant entries before the concat operation.\n",
      "  stats_dfu = pd.concat([stats_dfu, col_df],ignore_index = True)\n",
      "C:\\Users\\marek\\AppData\\Local\\Temp\\ipykernel_30188\\3333693127.py:20: FutureWarning: The behavior of DataFrame concatenation with empty or all-NA entries is deprecated. In a future version, this will no longer exclude empty or all-NA columns when determining the result dtypes. To retain the old behavior, exclude the relevant entries before the concat operation.\n",
      "  stats_dfu = pd.concat([stats_dfu, col_df],ignore_index = True)\n",
      "C:\\Users\\marek\\AppData\\Local\\Temp\\ipykernel_30188\\3333693127.py:20: FutureWarning: The behavior of DataFrame concatenation with empty or all-NA entries is deprecated. In a future version, this will no longer exclude empty or all-NA columns when determining the result dtypes. To retain the old behavior, exclude the relevant entries before the concat operation.\n",
      "  stats_dfu = pd.concat([stats_dfu, col_df],ignore_index = True)\n",
      "C:\\Users\\marek\\AppData\\Local\\Temp\\ipykernel_30188\\3333693127.py:20: FutureWarning: The behavior of DataFrame concatenation with empty or all-NA entries is deprecated. In a future version, this will no longer exclude empty or all-NA columns when determining the result dtypes. To retain the old behavior, exclude the relevant entries before the concat operation.\n",
      "  stats_dfu = pd.concat([stats_dfu, col_df],ignore_index = True)\n",
      "C:\\Users\\marek\\AppData\\Local\\Temp\\ipykernel_30188\\3333693127.py:20: FutureWarning: The behavior of DataFrame concatenation with empty or all-NA entries is deprecated. In a future version, this will no longer exclude empty or all-NA columns when determining the result dtypes. To retain the old behavior, exclude the relevant entries before the concat operation.\n",
      "  stats_dfu = pd.concat([stats_dfu, col_df],ignore_index = True)\n",
      "C:\\Users\\marek\\AppData\\Local\\Temp\\ipykernel_30188\\3333693127.py:20: FutureWarning: The behavior of DataFrame concatenation with empty or all-NA entries is deprecated. In a future version, this will no longer exclude empty or all-NA columns when determining the result dtypes. To retain the old behavior, exclude the relevant entries before the concat operation.\n",
      "  stats_dfu = pd.concat([stats_dfu, col_df],ignore_index = True)\n",
      "C:\\Users\\marek\\AppData\\Local\\Temp\\ipykernel_30188\\3333693127.py:20: FutureWarning: The behavior of DataFrame concatenation with empty or all-NA entries is deprecated. In a future version, this will no longer exclude empty or all-NA columns when determining the result dtypes. To retain the old behavior, exclude the relevant entries before the concat operation.\n",
      "  stats_dfu = pd.concat([stats_dfu, col_df],ignore_index = True)\n",
      "C:\\Users\\marek\\AppData\\Local\\Temp\\ipykernel_30188\\3333693127.py:20: FutureWarning: The behavior of DataFrame concatenation with empty or all-NA entries is deprecated. In a future version, this will no longer exclude empty or all-NA columns when determining the result dtypes. To retain the old behavior, exclude the relevant entries before the concat operation.\n",
      "  stats_dfu = pd.concat([stats_dfu, col_df],ignore_index = True)\n",
      "C:\\Users\\marek\\AppData\\Local\\Temp\\ipykernel_30188\\3333693127.py:20: FutureWarning: The behavior of DataFrame concatenation with empty or all-NA entries is deprecated. In a future version, this will no longer exclude empty or all-NA columns when determining the result dtypes. To retain the old behavior, exclude the relevant entries before the concat operation.\n",
      "  stats_dfu = pd.concat([stats_dfu, col_df],ignore_index = True)\n",
      "C:\\Users\\marek\\AppData\\Local\\Temp\\ipykernel_30188\\3333693127.py:20: FutureWarning: The behavior of DataFrame concatenation with empty or all-NA entries is deprecated. In a future version, this will no longer exclude empty or all-NA columns when determining the result dtypes. To retain the old behavior, exclude the relevant entries before the concat operation.\n",
      "  stats_dfu = pd.concat([stats_dfu, col_df],ignore_index = True)\n",
      "C:\\Users\\marek\\AppData\\Local\\Temp\\ipykernel_30188\\3333693127.py:20: FutureWarning: The behavior of DataFrame concatenation with empty or all-NA entries is deprecated. In a future version, this will no longer exclude empty or all-NA columns when determining the result dtypes. To retain the old behavior, exclude the relevant entries before the concat operation.\n",
      "  stats_dfu = pd.concat([stats_dfu, col_df],ignore_index = True)\n",
      "C:\\Users\\marek\\AppData\\Local\\Temp\\ipykernel_30188\\3333693127.py:20: FutureWarning: The behavior of DataFrame concatenation with empty or all-NA entries is deprecated. In a future version, this will no longer exclude empty or all-NA columns when determining the result dtypes. To retain the old behavior, exclude the relevant entries before the concat operation.\n",
      "  stats_dfu = pd.concat([stats_dfu, col_df],ignore_index = True)\n",
      "C:\\Users\\marek\\AppData\\Local\\Packages\\PythonSoftwareFoundation.Python.3.11_qbz5n2kfra8p0\\LocalCache\\local-packages\\Python311\\site-packages\\scipy\\stats\\_morestats.py:1879: UserWarning: Input data for shapiro has range zero. The results may not be accurate.\n",
      "  warnings.warn(\"Input data for shapiro has range zero. The results \"\n",
      "C:\\Users\\marek\\AppData\\Local\\Packages\\PythonSoftwareFoundation.Python.3.11_qbz5n2kfra8p0\\LocalCache\\local-packages\\Python311\\site-packages\\scipy\\stats\\_axis_nan_policy.py:523: RuntimeWarning: Precision loss occurred in moment calculation due to catastrophic cancellation. This occurs when the data are nearly identical. Results may be unreliable.\n",
      "  res = hypotest_fun_out(*samples, **kwds)\n",
      "C:\\Users\\marek\\AppData\\Local\\Temp\\ipykernel_30188\\3333693127.py:20: FutureWarning: The behavior of DataFrame concatenation with empty or all-NA entries is deprecated. In a future version, this will no longer exclude empty or all-NA columns when determining the result dtypes. To retain the old behavior, exclude the relevant entries before the concat operation.\n",
      "  stats_dfu = pd.concat([stats_dfu, col_df],ignore_index = True)\n",
      "C:\\Users\\marek\\AppData\\Local\\Temp\\ipykernel_30188\\3333693127.py:20: FutureWarning: The behavior of DataFrame concatenation with empty or all-NA entries is deprecated. In a future version, this will no longer exclude empty or all-NA columns when determining the result dtypes. To retain the old behavior, exclude the relevant entries before the concat operation.\n",
      "  stats_dfu = pd.concat([stats_dfu, col_df],ignore_index = True)\n",
      "C:\\Users\\marek\\AppData\\Local\\Temp\\ipykernel_30188\\3333693127.py:20: FutureWarning: The behavior of DataFrame concatenation with empty or all-NA entries is deprecated. In a future version, this will no longer exclude empty or all-NA columns when determining the result dtypes. To retain the old behavior, exclude the relevant entries before the concat operation.\n",
      "  stats_dfu = pd.concat([stats_dfu, col_df],ignore_index = True)\n",
      "C:\\Users\\marek\\AppData\\Local\\Temp\\ipykernel_30188\\3333693127.py:20: FutureWarning: The behavior of DataFrame concatenation with empty or all-NA entries is deprecated. In a future version, this will no longer exclude empty or all-NA columns when determining the result dtypes. To retain the old behavior, exclude the relevant entries before the concat operation.\n",
      "  stats_dfu = pd.concat([stats_dfu, col_df],ignore_index = True)\n",
      "C:\\Users\\marek\\AppData\\Local\\Temp\\ipykernel_30188\\3333693127.py:20: FutureWarning: The behavior of DataFrame concatenation with empty or all-NA entries is deprecated. In a future version, this will no longer exclude empty or all-NA columns when determining the result dtypes. To retain the old behavior, exclude the relevant entries before the concat operation.\n",
      "  stats_dfu = pd.concat([stats_dfu, col_df],ignore_index = True)\n",
      "C:\\Users\\marek\\AppData\\Local\\Temp\\ipykernel_30188\\3333693127.py:20: FutureWarning: The behavior of DataFrame concatenation with empty or all-NA entries is deprecated. In a future version, this will no longer exclude empty or all-NA columns when determining the result dtypes. To retain the old behavior, exclude the relevant entries before the concat operation.\n",
      "  stats_dfu = pd.concat([stats_dfu, col_df],ignore_index = True)\n",
      "C:\\Users\\marek\\AppData\\Local\\Temp\\ipykernel_30188\\3333693127.py:20: FutureWarning: The behavior of DataFrame concatenation with empty or all-NA entries is deprecated. In a future version, this will no longer exclude empty or all-NA columns when determining the result dtypes. To retain the old behavior, exclude the relevant entries before the concat operation.\n",
      "  stats_dfu = pd.concat([stats_dfu, col_df],ignore_index = True)\n",
      "C:\\Users\\marek\\AppData\\Local\\Temp\\ipykernel_30188\\3333693127.py:20: FutureWarning: The behavior of DataFrame concatenation with empty or all-NA entries is deprecated. In a future version, this will no longer exclude empty or all-NA columns when determining the result dtypes. To retain the old behavior, exclude the relevant entries before the concat operation.\n",
      "  stats_dfu = pd.concat([stats_dfu, col_df],ignore_index = True)\n",
      "C:\\Users\\marek\\AppData\\Local\\Temp\\ipykernel_30188\\3333693127.py:20: FutureWarning: The behavior of DataFrame concatenation with empty or all-NA entries is deprecated. In a future version, this will no longer exclude empty or all-NA columns when determining the result dtypes. To retain the old behavior, exclude the relevant entries before the concat operation.\n",
      "  stats_dfu = pd.concat([stats_dfu, col_df],ignore_index = True)\n",
      "C:\\Users\\marek\\AppData\\Local\\Temp\\ipykernel_30188\\3333693127.py:20: FutureWarning: The behavior of DataFrame concatenation with empty or all-NA entries is deprecated. In a future version, this will no longer exclude empty or all-NA columns when determining the result dtypes. To retain the old behavior, exclude the relevant entries before the concat operation.\n",
      "  stats_dfu = pd.concat([stats_dfu, col_df],ignore_index = True)\n",
      "C:\\Users\\marek\\AppData\\Local\\Temp\\ipykernel_30188\\3333693127.py:20: FutureWarning: The behavior of DataFrame concatenation with empty or all-NA entries is deprecated. In a future version, this will no longer exclude empty or all-NA columns when determining the result dtypes. To retain the old behavior, exclude the relevant entries before the concat operation.\n",
      "  stats_dfu = pd.concat([stats_dfu, col_df],ignore_index = True)\n",
      "C:\\Users\\marek\\AppData\\Local\\Temp\\ipykernel_30188\\3333693127.py:20: FutureWarning: The behavior of DataFrame concatenation with empty or all-NA entries is deprecated. In a future version, this will no longer exclude empty or all-NA columns when determining the result dtypes. To retain the old behavior, exclude the relevant entries before the concat operation.\n",
      "  stats_dfu = pd.concat([stats_dfu, col_df],ignore_index = True)\n",
      "C:\\Users\\marek\\AppData\\Local\\Temp\\ipykernel_30188\\3333693127.py:20: FutureWarning: The behavior of DataFrame concatenation with empty or all-NA entries is deprecated. In a future version, this will no longer exclude empty or all-NA columns when determining the result dtypes. To retain the old behavior, exclude the relevant entries before the concat operation.\n",
      "  stats_dfu = pd.concat([stats_dfu, col_df],ignore_index = True)\n",
      "C:\\Users\\marek\\AppData\\Local\\Temp\\ipykernel_30188\\3333693127.py:20: FutureWarning: The behavior of DataFrame concatenation with empty or all-NA entries is deprecated. In a future version, this will no longer exclude empty or all-NA columns when determining the result dtypes. To retain the old behavior, exclude the relevant entries before the concat operation.\n",
      "  stats_dfu = pd.concat([stats_dfu, col_df],ignore_index = True)\n",
      "C:\\Users\\marek\\AppData\\Local\\Temp\\ipykernel_30188\\3333693127.py:20: FutureWarning: The behavior of DataFrame concatenation with empty or all-NA entries is deprecated. In a future version, this will no longer exclude empty or all-NA columns when determining the result dtypes. To retain the old behavior, exclude the relevant entries before the concat operation.\n",
      "  stats_dfu = pd.concat([stats_dfu, col_df],ignore_index = True)\n",
      "C:\\Users\\marek\\AppData\\Local\\Packages\\PythonSoftwareFoundation.Python.3.11_qbz5n2kfra8p0\\LocalCache\\local-packages\\Python311\\site-packages\\scipy\\stats\\_morestats.py:1879: UserWarning: Input data for shapiro has range zero. The results may not be accurate.\n",
      "  warnings.warn(\"Input data for shapiro has range zero. The results \"\n",
      "C:\\Users\\marek\\AppData\\Local\\Packages\\PythonSoftwareFoundation.Python.3.11_qbz5n2kfra8p0\\LocalCache\\local-packages\\Python311\\site-packages\\scipy\\stats\\_axis_nan_policy.py:523: RuntimeWarning: Precision loss occurred in moment calculation due to catastrophic cancellation. This occurs when the data are nearly identical. Results may be unreliable.\n",
      "  res = hypotest_fun_out(*samples, **kwds)\n",
      "C:\\Users\\marek\\AppData\\Local\\Temp\\ipykernel_30188\\3333693127.py:20: FutureWarning: The behavior of DataFrame concatenation with empty or all-NA entries is deprecated. In a future version, this will no longer exclude empty or all-NA columns when determining the result dtypes. To retain the old behavior, exclude the relevant entries before the concat operation.\n",
      "  stats_dfu = pd.concat([stats_dfu, col_df],ignore_index = True)\n",
      "C:\\Users\\marek\\AppData\\Local\\Temp\\ipykernel_30188\\3333693127.py:20: FutureWarning: The behavior of DataFrame concatenation with empty or all-NA entries is deprecated. In a future version, this will no longer exclude empty or all-NA columns when determining the result dtypes. To retain the old behavior, exclude the relevant entries before the concat operation.\n",
      "  stats_dfu = pd.concat([stats_dfu, col_df],ignore_index = True)\n",
      "C:\\Users\\marek\\AppData\\Local\\Temp\\ipykernel_30188\\3333693127.py:20: FutureWarning: The behavior of DataFrame concatenation with empty or all-NA entries is deprecated. In a future version, this will no longer exclude empty or all-NA columns when determining the result dtypes. To retain the old behavior, exclude the relevant entries before the concat operation.\n",
      "  stats_dfu = pd.concat([stats_dfu, col_df],ignore_index = True)\n",
      "C:\\Users\\marek\\AppData\\Local\\Temp\\ipykernel_30188\\3333693127.py:20: FutureWarning: The behavior of DataFrame concatenation with empty or all-NA entries is deprecated. In a future version, this will no longer exclude empty or all-NA columns when determining the result dtypes. To retain the old behavior, exclude the relevant entries before the concat operation.\n",
      "  stats_dfu = pd.concat([stats_dfu, col_df],ignore_index = True)\n",
      "C:\\Users\\marek\\AppData\\Local\\Temp\\ipykernel_30188\\3333693127.py:20: FutureWarning: The behavior of DataFrame concatenation with empty or all-NA entries is deprecated. In a future version, this will no longer exclude empty or all-NA columns when determining the result dtypes. To retain the old behavior, exclude the relevant entries before the concat operation.\n",
      "  stats_dfu = pd.concat([stats_dfu, col_df],ignore_index = True)\n",
      "C:\\Users\\marek\\AppData\\Local\\Temp\\ipykernel_30188\\3333693127.py:20: FutureWarning: The behavior of DataFrame concatenation with empty or all-NA entries is deprecated. In a future version, this will no longer exclude empty or all-NA columns when determining the result dtypes. To retain the old behavior, exclude the relevant entries before the concat operation.\n",
      "  stats_dfu = pd.concat([stats_dfu, col_df],ignore_index = True)\n",
      "C:\\Users\\marek\\AppData\\Local\\Temp\\ipykernel_30188\\3333693127.py:20: FutureWarning: The behavior of DataFrame concatenation with empty or all-NA entries is deprecated. In a future version, this will no longer exclude empty or all-NA columns when determining the result dtypes. To retain the old behavior, exclude the relevant entries before the concat operation.\n",
      "  stats_dfu = pd.concat([stats_dfu, col_df],ignore_index = True)\n",
      "C:\\Users\\marek\\AppData\\Local\\Temp\\ipykernel_30188\\3333693127.py:20: FutureWarning: The behavior of DataFrame concatenation with empty or all-NA entries is deprecated. In a future version, this will no longer exclude empty or all-NA columns when determining the result dtypes. To retain the old behavior, exclude the relevant entries before the concat operation.\n",
      "  stats_dfu = pd.concat([stats_dfu, col_df],ignore_index = True)\n",
      "C:\\Users\\marek\\AppData\\Local\\Temp\\ipykernel_30188\\3333693127.py:20: FutureWarning: The behavior of DataFrame concatenation with empty or all-NA entries is deprecated. In a future version, this will no longer exclude empty or all-NA columns when determining the result dtypes. To retain the old behavior, exclude the relevant entries before the concat operation.\n",
      "  stats_dfu = pd.concat([stats_dfu, col_df],ignore_index = True)\n",
      "C:\\Users\\marek\\AppData\\Local\\Temp\\ipykernel_30188\\3333693127.py:20: FutureWarning: The behavior of DataFrame concatenation with empty or all-NA entries is deprecated. In a future version, this will no longer exclude empty or all-NA columns when determining the result dtypes. To retain the old behavior, exclude the relevant entries before the concat operation.\n",
      "  stats_dfu = pd.concat([stats_dfu, col_df],ignore_index = True)\n",
      "C:\\Users\\marek\\AppData\\Local\\Temp\\ipykernel_30188\\3333693127.py:20: FutureWarning: The behavior of DataFrame concatenation with empty or all-NA entries is deprecated. In a future version, this will no longer exclude empty or all-NA columns when determining the result dtypes. To retain the old behavior, exclude the relevant entries before the concat operation.\n",
      "  stats_dfu = pd.concat([stats_dfu, col_df],ignore_index = True)\n",
      "C:\\Users\\marek\\AppData\\Local\\Temp\\ipykernel_30188\\3333693127.py:20: FutureWarning: The behavior of DataFrame concatenation with empty or all-NA entries is deprecated. In a future version, this will no longer exclude empty or all-NA columns when determining the result dtypes. To retain the old behavior, exclude the relevant entries before the concat operation.\n",
      "  stats_dfu = pd.concat([stats_dfu, col_df],ignore_index = True)\n",
      "C:\\Users\\marek\\AppData\\Local\\Temp\\ipykernel_30188\\3333693127.py:20: FutureWarning: The behavior of DataFrame concatenation with empty or all-NA entries is deprecated. In a future version, this will no longer exclude empty or all-NA columns when determining the result dtypes. To retain the old behavior, exclude the relevant entries before the concat operation.\n",
      "  stats_dfu = pd.concat([stats_dfu, col_df],ignore_index = True)\n",
      "C:\\Users\\marek\\AppData\\Local\\Temp\\ipykernel_30188\\3333693127.py:20: FutureWarning: The behavior of DataFrame concatenation with empty or all-NA entries is deprecated. In a future version, this will no longer exclude empty or all-NA columns when determining the result dtypes. To retain the old behavior, exclude the relevant entries before the concat operation.\n",
      "  stats_dfu = pd.concat([stats_dfu, col_df],ignore_index = True)\n",
      "C:\\Users\\marek\\AppData\\Local\\Temp\\ipykernel_30188\\3333693127.py:20: FutureWarning: The behavior of DataFrame concatenation with empty or all-NA entries is deprecated. In a future version, this will no longer exclude empty or all-NA columns when determining the result dtypes. To retain the old behavior, exclude the relevant entries before the concat operation.\n",
      "  stats_dfu = pd.concat([stats_dfu, col_df],ignore_index = True)\n",
      "C:\\Users\\marek\\AppData\\Local\\Temp\\ipykernel_30188\\3333693127.py:20: FutureWarning: The behavior of DataFrame concatenation with empty or all-NA entries is deprecated. In a future version, this will no longer exclude empty or all-NA columns when determining the result dtypes. To retain the old behavior, exclude the relevant entries before the concat operation.\n",
      "  stats_dfu = pd.concat([stats_dfu, col_df],ignore_index = True)\n",
      "C:\\Users\\marek\\AppData\\Local\\Temp\\ipykernel_30188\\3333693127.py:20: FutureWarning: The behavior of DataFrame concatenation with empty or all-NA entries is deprecated. In a future version, this will no longer exclude empty or all-NA columns when determining the result dtypes. To retain the old behavior, exclude the relevant entries before the concat operation.\n",
      "  stats_dfu = pd.concat([stats_dfu, col_df],ignore_index = True)\n",
      "C:\\Users\\marek\\AppData\\Local\\Temp\\ipykernel_30188\\3333693127.py:20: FutureWarning: The behavior of DataFrame concatenation with empty or all-NA entries is deprecated. In a future version, this will no longer exclude empty or all-NA columns when determining the result dtypes. To retain the old behavior, exclude the relevant entries before the concat operation.\n",
      "  stats_dfu = pd.concat([stats_dfu, col_df],ignore_index = True)\n",
      "C:\\Users\\marek\\AppData\\Local\\Temp\\ipykernel_30188\\3333693127.py:20: FutureWarning: The behavior of DataFrame concatenation with empty or all-NA entries is deprecated. In a future version, this will no longer exclude empty or all-NA columns when determining the result dtypes. To retain the old behavior, exclude the relevant entries before the concat operation.\n",
      "  stats_dfu = pd.concat([stats_dfu, col_df],ignore_index = True)\n",
      "C:\\Users\\marek\\AppData\\Local\\Temp\\ipykernel_30188\\3333693127.py:20: FutureWarning: The behavior of DataFrame concatenation with empty or all-NA entries is deprecated. In a future version, this will no longer exclude empty or all-NA columns when determining the result dtypes. To retain the old behavior, exclude the relevant entries before the concat operation.\n",
      "  stats_dfu = pd.concat([stats_dfu, col_df],ignore_index = True)\n",
      "C:\\Users\\marek\\AppData\\Local\\Temp\\ipykernel_30188\\3333693127.py:20: FutureWarning: The behavior of DataFrame concatenation with empty or all-NA entries is deprecated. In a future version, this will no longer exclude empty or all-NA columns when determining the result dtypes. To retain the old behavior, exclude the relevant entries before the concat operation.\n",
      "  stats_dfu = pd.concat([stats_dfu, col_df],ignore_index = True)\n",
      "C:\\Users\\marek\\AppData\\Local\\Temp\\ipykernel_30188\\3333693127.py:20: FutureWarning: The behavior of DataFrame concatenation with empty or all-NA entries is deprecated. In a future version, this will no longer exclude empty or all-NA columns when determining the result dtypes. To retain the old behavior, exclude the relevant entries before the concat operation.\n",
      "  stats_dfu = pd.concat([stats_dfu, col_df],ignore_index = True)\n"
     ]
    }
   ],
   "source": [
    "base_acc = 0.8684\n",
    "stats_dfu = pd.DataFrame(columns = ['feature','shapiro_pval','shapiro_pval_log','shapiro_pval_exp','tt_pval'])\n",
    "\n",
    "for feature in results_dfu['feature'].unique():\n",
    "    sample = results_dfu.loc[results_dfp['feature']== feature]\n",
    "    sample_acc = sample['test_acc']\n",
    "    \n",
    "    sample_acc_log = np.log(sample_acc)\n",
    "    sample_acc_exp = np.exp(sample_acc)\n",
    "    _ , pval = stats.shapiro(sample_acc)\n",
    "    _ , pval_log = stats.shapiro(sample_acc_log)\n",
    "    _ , pval_exp = stats.shapiro(sample_acc_exp)\n",
    "\n",
    "    if pval > 0.05:\n",
    "        t_statistic, tpval = stats.ttest_1samp(sample_acc,base_acc)\n",
    "    else:\n",
    "        tpval = pd.NA\n",
    "\n",
    "    \n",
    "    col_df = pd.DataFrame({'feature':[feature] ,'shapiro_pval':[pval],'shapiro_pval_log':[pval_log],'shapiro_pval_exp':[pval_exp],'tt_pval':[tpval]})\n",
    "    stats_dfu = pd.concat([stats_dfu, col_df],ignore_index = True)\n",
    "    "
   ]
  },
  {
   "cell_type": "code",
   "execution_count": 257,
   "id": "b95ee428-15ff-42d7-90d2-9e42a7e440f9",
   "metadata": {},
   "outputs": [
    {
     "data": {
      "text/html": [
       "<div>\n",
       "<style scoped>\n",
       "    .dataframe tbody tr th:only-of-type {\n",
       "        vertical-align: middle;\n",
       "    }\n",
       "\n",
       "    .dataframe tbody tr th {\n",
       "        vertical-align: top;\n",
       "    }\n",
       "\n",
       "    .dataframe thead th {\n",
       "        text-align: right;\n",
       "    }\n",
       "</style>\n",
       "<table border=\"1\" class=\"dataframe\">\n",
       "  <thead>\n",
       "    <tr style=\"text-align: right;\">\n",
       "      <th></th>\n",
       "      <th>shapiro_pval</th>\n",
       "      <th>shapiro_pval_log</th>\n",
       "      <th>shapiro_pval_exp</th>\n",
       "      <th>tt_pval</th>\n",
       "    </tr>\n",
       "  </thead>\n",
       "  <tbody>\n",
       "    <tr>\n",
       "      <th>count</th>\n",
       "      <td>2.520000e+02</td>\n",
       "      <td>2.520000e+02</td>\n",
       "      <td>2.520000e+02</td>\n",
       "      <td>6.0</td>\n",
       "    </tr>\n",
       "    <tr>\n",
       "      <th>mean</th>\n",
       "      <td>2.415633e-02</td>\n",
       "      <td>2.400439e-02</td>\n",
       "      <td>2.427557e-02</td>\n",
       "      <td>0.0</td>\n",
       "    </tr>\n",
       "    <tr>\n",
       "      <th>std</th>\n",
       "      <td>1.527093e-01</td>\n",
       "      <td>1.527290e-01</td>\n",
       "      <td>1.526993e-01</td>\n",
       "      <td>0.0</td>\n",
       "    </tr>\n",
       "    <tr>\n",
       "      <th>min</th>\n",
       "      <td>2.964691e-20</td>\n",
       "      <td>2.964691e-20</td>\n",
       "      <td>2.964691e-20</td>\n",
       "      <td>0.0</td>\n",
       "    </tr>\n",
       "    <tr>\n",
       "      <th>25%</th>\n",
       "      <td>5.060473e-12</td>\n",
       "      <td>5.113202e-12</td>\n",
       "      <td>4.971215e-12</td>\n",
       "      <td>0.0</td>\n",
       "    </tr>\n",
       "    <tr>\n",
       "      <th>50%</th>\n",
       "      <td>1.577254e-06</td>\n",
       "      <td>1.625022e-06</td>\n",
       "      <td>1.499931e-06</td>\n",
       "      <td>0.0</td>\n",
       "    </tr>\n",
       "    <tr>\n",
       "      <th>75%</th>\n",
       "      <td>2.211206e-04</td>\n",
       "      <td>1.778677e-04</td>\n",
       "      <td>1.827672e-04</td>\n",
       "      <td>0.0</td>\n",
       "    </tr>\n",
       "    <tr>\n",
       "      <th>max</th>\n",
       "      <td>1.000000e+00</td>\n",
       "      <td>1.000000e+00</td>\n",
       "      <td>1.000000e+00</td>\n",
       "      <td>0.0</td>\n",
       "    </tr>\n",
       "  </tbody>\n",
       "</table>\n",
       "</div>"
      ],
      "text/plain": [
       "       shapiro_pval  shapiro_pval_log  shapiro_pval_exp  tt_pval\n",
       "count  2.520000e+02      2.520000e+02      2.520000e+02      6.0\n",
       "mean   2.415633e-02      2.400439e-02      2.427557e-02      0.0\n",
       "std    1.527093e-01      1.527290e-01      1.526993e-01      0.0\n",
       "min    2.964691e-20      2.964691e-20      2.964691e-20      0.0\n",
       "25%    5.060473e-12      5.113202e-12      4.971215e-12      0.0\n",
       "50%    1.577254e-06      1.625022e-06      1.499931e-06      0.0\n",
       "75%    2.211206e-04      1.778677e-04      1.827672e-04      0.0\n",
       "max    1.000000e+00      1.000000e+00      1.000000e+00      0.0"
      ]
     },
     "execution_count": 257,
     "metadata": {},
     "output_type": "execute_result"
    }
   ],
   "source": [
    "stats_dfu.describe()"
   ]
  },
  {
   "cell_type": "code",
   "execution_count": 259,
   "id": "52518761-7153-4281-bf8c-8edb877ce736",
   "metadata": {
    "scrolled": true
   },
   "outputs": [
    {
     "data": {
      "image/png": "[encoded data removed]",
      "text/plain": [
       "<Figure size 640x480 with 1 Axes>"
      ]
     },
     "metadata": {},
     "output_type": "display_data"
    },
    {
     "data": {
      "image/png": "[encoded data removed]",
      "text/plain": [
       "<Figure size 640x480 with 1 Axes>"
      ]
     },
     "metadata": {},
     "output_type": "display_data"
    },
    {
     "data": {
      "image/png": "[encoded data removed]",
      "text/plain": [
       "<Figure size 640x480 with 1 Axes>"
      ]
     },
     "metadata": {},
     "output_type": "display_data"
    }
   ],
   "source": [
    "stats_dfu['shapiro_pval'].hist()\n",
    "plt.title(\"shapiro\")\n",
    "plt.show()\n",
    "stats_dfu['shapiro_pval_log'].hist()\n",
    "plt.title(\"shapiro_log\")\n",
    "plt.show()\n",
    "stats_dfu['shapiro_pval_exp'].hist()\n",
    "plt.title(\"shapiro_exp\")\n",
    "plt.show()\n"
   ]
  },
  {
   "cell_type": "code",
   "execution_count": null,
   "id": "79d5a454-e548-45c3-a30f-990ba1531b56",
   "metadata": {},
   "outputs": [],
   "source": [
    "#stats_dfu.to_csv('stats_dfu.csv')"
   ]
  },
  {
   "cell_type": "code",
   "execution_count": 263,
   "id": "7c13fef4-7b22-444d-86ee-08112d18b4e4",
   "metadata": {},
   "outputs": [
    {
     "data": {
      "text/html": [
       "<div>\n",
       "<style scoped>\n",
       "    .dataframe tbody tr th:only-of-type {\n",
       "        vertical-align: middle;\n",
       "    }\n",
       "\n",
       "    .dataframe tbody tr th {\n",
       "        vertical-align: top;\n",
       "    }\n",
       "\n",
       "    .dataframe thead th {\n",
       "        text-align: right;\n",
       "    }\n",
       "</style>\n",
       "<table border=\"1\" class=\"dataframe\">\n",
       "  <thead>\n",
       "    <tr style=\"text-align: right;\">\n",
       "      <th></th>\n",
       "      <th>feature</th>\n",
       "      <th>shapiro_pval</th>\n",
       "      <th>shapiro_pval_log</th>\n",
       "      <th>shapiro_pval_exp</th>\n",
       "      <th>tt_pval</th>\n",
       "    </tr>\n",
       "  </thead>\n",
       "  <tbody>\n",
       "    <tr>\n",
       "      <th>42</th>\n",
       "      <td>42</td>\n",
       "      <td>1.0</td>\n",
       "      <td>1.0</td>\n",
       "      <td>1.0</td>\n",
       "      <td>0.0</td>\n",
       "    </tr>\n",
       "    <tr>\n",
       "      <th>87</th>\n",
       "      <td>87</td>\n",
       "      <td>1.0</td>\n",
       "      <td>1.0</td>\n",
       "      <td>1.0</td>\n",
       "      <td>0.0</td>\n",
       "    </tr>\n",
       "    <tr>\n",
       "      <th>103</th>\n",
       "      <td>103</td>\n",
       "      <td>1.0</td>\n",
       "      <td>1.0</td>\n",
       "      <td>1.0</td>\n",
       "      <td>0.0</td>\n",
       "    </tr>\n",
       "    <tr>\n",
       "      <th>168</th>\n",
       "      <td>42</td>\n",
       "      <td>1.0</td>\n",
       "      <td>1.0</td>\n",
       "      <td>1.0</td>\n",
       "      <td>0.0</td>\n",
       "    </tr>\n",
       "    <tr>\n",
       "      <th>213</th>\n",
       "      <td>87</td>\n",
       "      <td>1.0</td>\n",
       "      <td>1.0</td>\n",
       "      <td>1.0</td>\n",
       "      <td>0.0</td>\n",
       "    </tr>\n",
       "    <tr>\n",
       "      <th>229</th>\n",
       "      <td>103</td>\n",
       "      <td>1.0</td>\n",
       "      <td>1.0</td>\n",
       "      <td>1.0</td>\n",
       "      <td>0.0</td>\n",
       "    </tr>\n",
       "  </tbody>\n",
       "</table>\n",
       "</div>"
      ],
      "text/plain": [
       "    feature  shapiro_pval  shapiro_pval_log  shapiro_pval_exp  tt_pval\n",
       "42       42           1.0               1.0               1.0      0.0\n",
       "87       87           1.0               1.0               1.0      0.0\n",
       "103     103           1.0               1.0               1.0      0.0\n",
       "168      42           1.0               1.0               1.0      0.0\n",
       "213      87           1.0               1.0               1.0      0.0\n",
       "229     103           1.0               1.0               1.0      0.0"
      ]
     },
     "execution_count": 263,
     "metadata": {},
     "output_type": "execute_result"
    }
   ],
   "source": [
    "stats_dfu.loc[stats_dfu['shapiro_pval']> 0.05,:]"
   ]
  },
  {
   "cell_type": "markdown",
   "id": "1a0b8662-c970-4c4d-b787-4d0727e619e8",
   "metadata": {},
   "source": [
    "### Results"
   ]
  },
  {
   "cell_type": "code",
   "execution_count": 265,
   "id": "69b9c0b9-672f-43af-a6b9-7c273c8a058a",
   "metadata": {},
   "outputs": [
    {
     "ename": "NameError",
     "evalue": "name 'mean_df_u' is not defined",
     "output_type": "error",
     "traceback": [
      "\u001b[1;31m---------------------------------------------------------------------------\u001b[0m",
      "\u001b[1;31mNameError\u001b[0m                                 Traceback (most recent call last)",
      "Cell \u001b[1;32mIn[265], line 1\u001b[0m\n\u001b[1;32m----> 1\u001b[0m \u001b[43mmean_df_u\u001b[49m[\u001b[38;5;124m'\u001b[39m\u001b[38;5;124mtest_acc\u001b[39m\u001b[38;5;124m'\u001b[39m]\u001b[38;5;241m.\u001b[39mplot()\n\u001b[0;32m      2\u001b[0m mean_df_u[\u001b[38;5;124m'\u001b[39m\u001b[38;5;124mtrain_acc\u001b[39m\u001b[38;5;124m'\u001b[39m]\u001b[38;5;241m.\u001b[39mplot()\n\u001b[0;32m      3\u001b[0m plt\u001b[38;5;241m.\u001b[39mtitle(\u001b[38;5;124m\"\u001b[39m\u001b[38;5;124mRandom unif replaced features\u001b[39m\u001b[38;5;124m\"\u001b[39m)\n",
      "\u001b[1;31mNameError\u001b[0m: name 'mean_df_u' is not defined"
     ]
    }
   ],
   "source": [
    "['test_acc'].plot()\n",
    "mean_df_u['train_acc'].plot()\n",
    "plt.title(\"Random unif replaced features\")\n",
    "plt.legend()"
   ]
  },
  {
   "cell_type": "code",
   "execution_count": 266,
   "id": "41e1d0a4-5bb0-4174-a8fb-03ff8a3f8964",
   "metadata": {},
   "outputs": [
    {
     "ename": "NameError",
     "evalue": "name 'mean_df' is not defined",
     "output_type": "error",
     "traceback": [
      "\u001b[1;31m---------------------------------------------------------------------------\u001b[0m",
      "\u001b[1;31mNameError\u001b[0m                                 Traceback (most recent call last)",
      "Cell \u001b[1;32mIn[266], line 1\u001b[0m\n\u001b[1;32m----> 1\u001b[0m \u001b[43mmean_df\u001b[49m[\u001b[38;5;124m'\u001b[39m\u001b[38;5;124mtest_acc\u001b[39m\u001b[38;5;124m'\u001b[39m]\u001b[38;5;241m.\u001b[39mplot()\n\u001b[0;32m      2\u001b[0m mean_df[\u001b[38;5;124m'\u001b[39m\u001b[38;5;124mtrain_acc\u001b[39m\u001b[38;5;124m'\u001b[39m]\u001b[38;5;241m.\u001b[39mplot()\n\u001b[0;32m      3\u001b[0m plt\u001b[38;5;241m.\u001b[39mtitle(\u001b[38;5;124m\"\u001b[39m\u001b[38;5;124mZeroed features\u001b[39m\u001b[38;5;124m\"\u001b[39m)\n",
      "\u001b[1;31mNameError\u001b[0m: name 'mean_df' is not defined"
     ]
    }
   ],
   "source": [
    "mean_df['test_acc'].plot()\n",
    "mean_df['train_acc'].plot()\n",
    "plt.title(\"Zeroed features\")\n",
    "plt.legend()"
   ]
  },
  {
   "cell_type": "code",
   "execution_count": 267,
   "id": "3b23598e-1b06-4c44-aa93-d9a197ac2b16",
   "metadata": {},
   "outputs": [
    {
     "ename": "NameError",
     "evalue": "name 'mean_df' is not defined",
     "output_type": "error",
     "traceback": [
      "\u001b[1;31m---------------------------------------------------------------------------\u001b[0m",
      "\u001b[1;31mNameError\u001b[0m                                 Traceback (most recent call last)",
      "Cell \u001b[1;32mIn[267], line 1\u001b[0m\n\u001b[1;32m----> 1\u001b[0m \u001b[43mmean_df\u001b[49m[\u001b[38;5;124m'\u001b[39m\u001b[38;5;124mtest_loss\u001b[39m\u001b[38;5;124m'\u001b[39m]\u001b[38;5;241m.\u001b[39mplot()\n\u001b[0;32m      2\u001b[0m mean_df[\u001b[38;5;124m'\u001b[39m\u001b[38;5;124mtrain_loss\u001b[39m\u001b[38;5;124m'\u001b[39m]\u001b[38;5;241m.\u001b[39mplot()\n\u001b[0;32m      3\u001b[0m plt\u001b[38;5;241m.\u001b[39mtitle(\u001b[38;5;124m\"\u001b[39m\u001b[38;5;124mloss permuted features\u001b[39m\u001b[38;5;124m\"\u001b[39m)\n",
      "\u001b[1;31mNameError\u001b[0m: name 'mean_df' is not defined"
     ]
    }
   ],
   "source": [
    "mean_df['test_loss'].plot()\n",
    "mean_df['train_loss'].plot()\n",
    "plt.title(\"loss permuted features\")\n",
    "plt.legend()"
   ]
  },
  {
   "cell_type": "code",
   "execution_count": null,
   "id": "3f68cd99-a125-470c-a4c4-8e0709bfbfb4",
   "metadata": {},
   "outputs": [],
   "source": [
    "mean_df_p['test_acc'].plot()\n",
    "mean_df_p['train_acc'].plot()\n",
    "plt.title(\"Acc permuted features\")\n",
    "plt.legend()"
   ]
  },
  {
   "cell_type": "code",
   "execution_count": null,
   "id": "b79ef2b9-c056-42ec-8dab-72fe7c218b6c",
   "metadata": {},
   "outputs": [],
   "source": [
    "mean_df_p[\"test_acc\"].mean()"
   ]
  },
  {
   "cell_type": "markdown",
   "id": "c972b830-9df6-4846-964c-ea531ef60919",
   "metadata": {},
   "source": [
    "Here we wil extract bacteria familly which affected model the most "
   ]
  },
  {
   "cell_type": "code",
   "execution_count": null,
   "id": "1ef12961-132a-478b-8fe7-6841f174938a",
   "metadata": {},
   "outputs": [],
   "source": [
    "\n",
    "# Extract the column names from df1\n",
    "column_names = df.columns.tolist()\n",
    "\n",
    "# Assign the column names to a column in df2\n",
    "#df2['new_column'] = column_names\n",
    "print(column_names[74])\n",
    "print(column_names[115])\n",
    "print(column_names[56])"
   ]
  },
  {
   "cell_type": "code",
   "execution_count": null,
   "id": "dd9cb562-b43e-4c2e-87d0-4d7f5c2b87f5",
   "metadata": {},
   "outputs": [],
   "source": [
    "mean_df_p['bacteria'] = column_names[1:]"
   ]
  },
  {
   "cell_type": "code",
   "execution_count": null,
   "id": "06ff989b-5050-4d8d-a7c1-c8594b7a7474",
   "metadata": {},
   "outputs": [],
   "source": [
    "sorted_mean_df_p=mean_df_p.sort_values(by=\"test_acc\")\n",
    "print(sorted_mean_df_p[\"bacteria\"].head(3))"
   ]
  }
 ],
 "metadata": {
  "kernelspec": {
   "display_name": "Python 3 (ipykernel)",
   "language": "python",
   "name": "python3"
  },
  "language_info": {
   "codemirror_mode": {
    "name": "ipython",
    "version": 3
   },
   "file_extension": ".py",
   "mimetype": "text/x-python",
   "name": "python",
   "nbconvert_exporter": "python",
   "pygments_lexer": "ipython3",
   "version": "3.12.4"
  }
 },
 "nbformat": 4,
 "nbformat_minor": 5
}
